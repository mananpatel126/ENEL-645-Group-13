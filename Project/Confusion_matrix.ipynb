{
  "cells": [
    {
      "cell_type": "markdown",
      "metadata": {
        "id": "view-in-github",
        "colab_type": "text"
      },
      "source": [
        "<a href=\"https://colab.research.google.com/github/mananpatel126/ENEL-645-Group-13/blob/main/Project/Confusion_matrix.ipynb\" target=\"_parent\"><img src=\"https://colab.research.google.com/assets/colab-badge.svg\" alt=\"Open In Colab\"/></a>"
      ]
    },
    {
      "cell_type": "code",
      "execution_count": null,
      "id": "362a3213",
      "metadata": {
        "id": "362a3213"
      },
      "outputs": [],
      "source": [
        "# Importing the necessary libraries...\n",
        "import numpy as np\n",
        "import keras\n",
        "from keras.preprocessing.image import ImageDataGenerator\n",
        "import tensorflow as tf\n",
        "import seaborn as sns\n",
        "from sklearn import datasets\n",
        "from sklearn.tree import DecisionTreeClassifier\n",
        "from sklearn.metrics import classification_report, confusion_matrix\n",
        "from sklearn.utils.multiclass import unique_labels"
      ]
    },
    {
      "cell_type": "code",
      "execution_count": null,
      "id": "f4b820df",
      "metadata": {
        "id": "f4b820df",
        "outputId": "5aa82dfe-fe90-44a4-bcb7-c2784f73d406"
      },
      "outputs": [
        {
          "name": "stdout",
          "output_type": "stream",
          "text": [
            "Found 1240 images belonging to 4 classes.\n"
          ]
        }
      ],
      "source": [
        "# Defining the directory path...\n",
        "test_path = r'C:\\Users\\Manan Patel\\Data_Mining Project\\data\\test'\n",
        "\n",
        "gen_params = {\"featurewise_center\":False,\\\n",
        "              \"samplewise_center\":False,\\\n",
        "              \"featurewise_std_normalization\":False,\\\n",
        "              \"samplewise_std_normalization\":False,\\\n",
        "              \"zca_whitening\":False,\\\n",
        "              \"rotation_range\":45,\\\n",
        "              \"width_shift_range\":0.1,\\\n",
        "              \"height_shift_range\":0.1, \\\n",
        "              \"shear_range\":0.1, \\\n",
        "              \"horizontal_flip\":True,\\\n",
        "              \"vertical_flip\":False}\n",
        "\n",
        "test_batches = ImageDataGenerator(**gen_params, preprocessing_function=tf.keras.applications.vgg16.preprocess_input).flow_from_directory(directory=test_path,  target_size=(224,224),  class_mode='categorical',  batch_size=120, interpolation=\"nearest\", shuffle=True)"
      ]
    },
    {
      "cell_type": "code",
      "execution_count": null,
      "id": "b6ff7894",
      "metadata": {
        "id": "b6ff7894"
      },
      "outputs": [],
      "source": [
        "# Getting test batch from the datasets.\n",
        "imgs, labels = next(test_batches)\n",
        "model = keras.models.load_model(r\"C:\\Users\\Manan Patel\\Data_Mining Project\\data\\TR_Test6.h5\")"
      ]
    },
    {
      "cell_type": "code",
      "execution_count": null,
      "id": "267b8b65",
      "metadata": {
        "id": "267b8b65"
      },
      "outputs": [],
      "source": [
        "classes = labels.shape[1]"
      ]
    },
    {
      "cell_type": "code",
      "execution_count": null,
      "id": "3a4e1607",
      "metadata": {
        "id": "3a4e1607"
      },
      "outputs": [],
      "source": [
        "y_true=np.argmax(labels,axis=1)\n",
        "yp = model.predict(imgs)\n",
        "yp1=np.argmax(yp,axis=1)"
      ]
    },
    {
      "cell_type": "code",
      "execution_count": null,
      "id": "c82280a0",
      "metadata": {
        "id": "c82280a0"
      },
      "outputs": [],
      "source": [
        "cm = tf.math.confusion_matrix(labels=y_true,predictions=yp1)"
      ]
    },
    {
      "cell_type": "code",
      "execution_count": null,
      "id": "352f1350",
      "metadata": {
        "id": "352f1350",
        "outputId": "06fbe530-4d46-415c-a7be-84199401db17"
      },
      "outputs": [
        {
          "data": {
            "text/plain": [
              "Text(51.0, 0.5, 'Truth lable')"
            ]
          },
          "execution_count": 39,
          "metadata": {},
          "output_type": "execute_result"
        },
        {
          "data": {
            "image/png": "[encoded data removed]",
            "text/plain": [
              "<Figure size 576x360 with 2 Axes>"
            ]
          },
          "metadata": {
            "needs_background": "light"
          },
          "output_type": "display_data"
        }
      ],
      "source": [
        "# Printing the confusion matrix.\n",
        "plt.figure(figsize = (8,5))\n",
        "sn.heatmap(cm, annot=True, fmt='d')\n",
        "plt.xlabel('Predicted label')\n",
        "plt.ylabel('Truth lable')"
      ]
    }
  ],
  "metadata": {
    "kernelspec": {
      "display_name": "Python 3 (ipykernel)",
      "language": "python",
      "name": "python3"
    },
    "language_info": {
      "codemirror_mode": {
        "name": "ipython",
        "version": 3
      },
      "file_extension": ".py",
      "mimetype": "text/x-python",
      "name": "python",
      "nbconvert_exporter": "python",
      "pygments_lexer": "ipython3",
      "version": "3.9.7"
    },
    "colab": {
      "name": "Confusion matrix.ipynb",
      "provenance": [],
      "include_colab_link": true
    }
  },
  "nbformat": 4,
  "nbformat_minor": 5
}