{
  "cells": [
    {
      "cell_type": "markdown",
      "metadata": {
        "id": "view-in-github",
        "colab_type": "text"
      },
      "source": [
        "<a href=\"https://colab.research.google.com/github/mananpatel126/ENEL-645-Group-13/blob/main/Project/Prediction/Prediction.ipynb\" target=\"_parent\"><img src=\"https://colab.research.google.com/assets/colab-badge.svg\" alt=\"Open In Colab\"/></a>"
      ]
    },
    {
      "cell_type": "code",
      "execution_count": null,
      "id": "e2fc5197",
      "metadata": {
        "id": "e2fc5197"
      },
      "outputs": [],
      "source": [
        "import numpy as np\n",
        "import cv2\n",
        "import keras\n",
        "from keras.preprocessing.image import ImageDataGenerator\n",
        "import tensorflow as tf\n",
        "from random import choice\n",
        "import vlc\n",
        "import time\n",
        "from time import process_time\n",
        "from playsound import playsound"
      ]
    },
    {
      "cell_type": "code",
      "execution_count": null,
      "id": "69cbe132",
      "metadata": {
        "id": "69cbe132"
      },
      "outputs": [],
      "source": [
        "model = keras.models.load_model(r\"C:\\Users\\Manan Patel\\Data_Mining Project\\data\\TR_Test6.h5\")\n",
        "background = None\n",
        "accumulated_weight = 0.5\n",
        "ROI_top = 0\n",
        "ROI_bottom = 300\n",
        "ROI_left = 0\n",
        "ROI_right = 320"
      ]
    },
    {
      "cell_type": "code",
      "execution_count": null,
      "id": "b0afe100",
      "metadata": {
        "id": "b0afe100"
      },
      "outputs": [],
      "source": [
        "def cal_accum_avg(frame, accumulated_weight):\n",
        "    global background\n",
        "    \n",
        "    if background is None:\n",
        "        background = frame.copy().astype(\"float\")\n",
        "        return None\n",
        "    cv2.accumulateWeighted(frame, background, accumulated_weight)"
      ]
    },
    {
      "cell_type": "code",
      "execution_count": null,
      "id": "dc0b08e4",
      "metadata": {
        "id": "dc0b08e4"
      },
      "outputs": [],
      "source": [
        "def segment_hand(frame, threshold=25):\n",
        "    global background\n",
        "    \n",
        "    diff = cv2.absdiff(background.astype(\"uint8\"), frame)\n",
        "    \n",
        "    _ , thresholded = cv2.threshold(diff, threshold, 255, cv2.THRESH_BINARY_INV)\n",
        "    \n",
        "    contours, hierarchy = cv2.findContours(thresholded.copy(), cv2.RETR_EXTERNAL, cv2.CHAIN_APPROX_SIMPLE)\n",
        "    \n",
        "    if len(contours) == 0:\n",
        "        return None\n",
        "    else:\n",
        "        hand_segment_max_cont = max(contours, key=cv2.contourArea)\n",
        "        \n",
        "        return (thresholded, hand_segment_max_cont)"
      ]
    },
    {
      "cell_type": "code",
      "execution_count": null,
      "id": "25807339",
      "metadata": {
        "scrolled": true,
        "id": "25807339",
        "outputId": "e39ebc94-197a-42be-94e8-e58c5562461f"
      },
      "outputs": [
        {
          "name": "stdout",
          "output_type": "stream",
          "text": [
            "[[0.12154192 0.30878696 0.03461991 0.5350513 ]]\n",
            "[[0.37984765 0.26115096 0.10087767 0.2581237 ]]\n",
            "[[0.01846979 0.956404   0.01905403 0.00607212]]\n",
            "[[0.05559151 0.27276528 0.6323783  0.03926488]]\n",
            "[[7.6898289e-01 1.6531086e-02 2.1384844e-01 6.3762866e-04]]\n",
            "[[0.00335497 0.9306894  0.01812917 0.04782639]]\n",
            "[[0.07465204 0.10535461 0.8110861  0.00890727]]\n",
            "[[9.9928290e-01 6.4710405e-04 6.9314279e-05 7.3905863e-07]]\n",
            "[[0.12154192 0.30878696 0.03461991 0.5350513 ]]\n",
            "[[0.44264472 0.23234574 0.0610269  0.26398256]]\n",
            "[[0.22913152 0.20679267 0.05321955 0.5108563 ]]\n",
            "[[0.18966308 0.7605755  0.01352197 0.03623947]]\n"
          ]
        }
      ],
      "source": [
        "cam = cv2.VideoCapture(0)\n",
        "num_frames =0\n",
        "i =0\n",
        "word_dict = {0:'Paper', 1:'Rock', 2:'Scissor', 3:'none'}  # Using dictionary, Label the predicted output\n",
        "\n",
        "# Computer move ROI\n",
        "x_left = 320\n",
        "y_top = 0\n",
        "x_right = x_left + 320\n",
        "y_down = y_top + 300\n",
        "\n",
        "# Playing back ground music\n",
        "player = vlc.MediaPlayer(\"mario.mp3\")\n",
        "\n",
        "\n",
        "Prev_move = None\n",
        "\n",
        "# Define a fuction to calculate the winner for the game\n",
        "def calculate_winner(move1, move2):\n",
        "    if move1 == move2:\n",
        "        return \"Tie\"\n",
        "    if move1 == \"Rock\":\n",
        "        if move2 == \"Scissor\":\n",
        "            return \"Winner\"\n",
        "        if move2 == \"Paper\":\n",
        "            return \"Looser\"\n",
        "    if move1 == \"Scissor\":\n",
        "        if move2 == \"Paper\":\n",
        "            return \"Winner\"\n",
        "        if move2 == \"Rock\":\n",
        "            return \"Looser\"\n",
        "    if move1 == \"Paper\":\n",
        "        if move2 == \"Rock\":\n",
        "            return \"Winner\"\n",
        "        if move2 == \"Scissor\":\n",
        "            return \"Looser\"\n",
        "\n",
        "# We are using the time counter to minimize the false changes in the game.\\\n",
        "# i.e. Sudden change in the action will not consider\n",
        "start = process_time()        \n",
        "count = 0\n",
        "count1 = 0\n",
        "\n",
        "\n",
        "while True:\n",
        "\n",
        "    ret, frame = cam.read()\n",
        "    \n",
        "    # Fliping the video frame.\n",
        "    frame = cv2.flip(frame, 1)\n",
        "    frame_copy = frame.copy()\n",
        "\n",
        "    # Defining the ROI co-ordinates.\n",
        "    roi = frame[ROI_top:ROI_bottom, ROI_left:ROI_right]\n",
        "    \n",
        "    # Converting the RGB frame to gray\n",
        "    gray_frame = cv2.cvtColor(roi, cv2.COLOR_BGR2GRAY)\n",
        "    gray_frame = cv2.GaussianBlur(gray_frame, (9, 9), 0)\n",
        "    \n",
        "    # Printing the GUI for the game and resizing the shape.\n",
        "    score = cv2.imread('scoreboard.jpg') \n",
        "    score = cv2.resize(score, (640, 180))\n",
        "    frame_copy[300:480,0:640] = score\n",
        "    \n",
        "    # First few frames, fetching the background...\n",
        "    if num_frames < 90:\n",
        "        \n",
        "        cal_accum_avg(gray_frame, accumulated_weight)\n",
        "        \n",
        "        cv2.putText(frame_copy, \"FETCHING BACKGROUND...PLEASE WAIT\", (80, 100), cv2.FONT_HERSHEY_SIMPLEX, 0.9, (0,0,255), 2)\n",
        "        if num_frames <30:\n",
        "            cv2.putText(frame_copy, \"3...\", (135, 230), cv2.FONT_HERSHEY_SIMPLEX, 3.0, (115,95,237), 4)\n",
        "            cv2.putText(frame_copy, \"3...\", (440, 230), cv2.FONT_HERSHEY_SIMPLEX, 3.0, (194,129,81), 4)\n",
        "        elif num_frames <60 and num_frames>29:\n",
        "            cv2.putText(frame_copy, \"2...\", (135, 230), cv2.FONT_HERSHEY_SIMPLEX, 3.0, (115,95,237), 4)\n",
        "            cv2.putText(frame_copy, \"2...\", (440, 230), cv2.FONT_HERSHEY_SIMPLEX, 3.0, (194,129,81), 4)\n",
        "        elif num_frames <90 and num_frames>59:\n",
        "            cv2.putText(frame_copy, \"1...\", (135, 230), cv2.FONT_HERSHEY_SIMPLEX, 3.0, (115,95,237), 4)\n",
        "            cv2.putText(frame_copy, \"1...\", (440, 230), cv2.FONT_HERSHEY_SIMPLEX, 3.0, (194,129,81), 4)\n",
        "    \n",
        "    elif num_frames <120 and num_frames>89:\n",
        "        cv2.putText(frame_copy, \"Go\", (115, 230), cv2.FONT_HERSHEY_SIMPLEX, 3.0, (115,95,237), 4)\n",
        "        cv2.putText(frame_copy, \"Go\", (420, 230), cv2.FONT_HERSHEY_SIMPLEX, 3.0, (194,129,81), 4)\n",
        "    \n",
        "    # After that, fetching the object.\n",
        "    else: \n",
        "        hand = segment_hand(gray_frame)\n",
        "        \n",
        "        \n",
        "        if hand is not None:\n",
        "            \n",
        "            thresholded, hand_segment = hand\n",
        "            \n",
        "            # Drawing the countour around the object...\n",
        "            cv2.drawContours(frame_copy, [hand_segment + (ROI_left, ROI_top)], -1, (255, 0, 0),1)\n",
        "            cv2.imshow(\"Thesholded Hand Image\", thresholded)\n",
        "            \n",
        "            \n",
        "            # Resizing the ROI image.\n",
        "            thresholded = cv2.resize(thresholded, (224, 224))\n",
        "            thresholded = cv2.cvtColor(thresholded, cv2.COLOR_GRAY2RGB)\n",
        "            thresholded = np.reshape(thresholded, (1,thresholded.shape[0],thresholded.shape[1],3))\n",
        "            \n",
        "            # Predicting the model output and assign it as user move.\n",
        "            pred = model.predict(thresholded)\n",
        "            User_move = word_dict[np.argmax(pred)]\n",
        "\n",
        "            # Logical conditions...\n",
        "            if Prev_move != User_move:\n",
        "                u = 1\n",
        "                end = process_time()\n",
        "                total = (end-start)*100\n",
        "                if User_move != \"none\" and total > 200:  # Total time create a constraint to minimize the false move.\n",
        "                    \n",
        "                    start = 0\n",
        "                    end = 0\n",
        "                    Computer_move = choice(['Rock', 'Paper', 'Scissor']) # Random choice generation by computer.\n",
        "                    winner = calculate_winner(User_move, Computer_move)\n",
        "                    start = process_time()\n",
        "                    if winner == \"Winner\":\n",
        "                        count = count + 1  # Counting the winner's move\n",
        "                    if winner == \"Looser\":\n",
        "                        count1 = count1 + 1  # Counting the Looser's move\n",
        "                        \n",
        "                if User_move == \"none\":  # When User is not ready to play\n",
        "                    Computer_move = \"none\"\n",
        "                    winner = \"Waiting...\"\n",
        "            \n",
        "            \n",
        "            if Computer_move != \"none\":  # Getting computer move as image\n",
        "\n",
        "                icon = cv2.imread(Computer_move + '.' + 'jpg')\n",
        "                icon = cv2.resize(icon, (320, 300))\n",
        "                frame_copy[y_top:y_down,x_left:x_right] = icon\n",
        "        \n",
        "            font = cv2.FONT_HERSHEY_SIMPLEX\n",
        "            cv2.putText(frame_copy, \"Your Move: \" + User_move, (105, 350), font, 0.5, (115,95,237), 2, cv2.LINE_AA)\n",
        "            cv2.putText(frame_copy, \"Computer's Move: \" + Computer_move, (350, 350), font, 0.5, (194, 129, 81), 2, cv2.LINE_AA)\n",
        "            cv2.putText(frame_copy, winner, (280, 450), font, 0.5, (255,255,255), 2, cv2.LINE_AA)\n",
        "            \n",
        "            cv2.putText(frame_copy, str(count), (183, 420), font, 0.7, (115,95,237), 2, cv2.LINE_AA)\n",
        "            cv2.putText(frame_copy, str(count1), (438, 420), font, 0.7, (194, 129, 81), 2, cv2.LINE_AA)\n",
        "\n",
        "            Prev_move = User_move\n",
        "                    \n",
        "      \n",
        "    cv2.rectangle(frame_copy, (ROI_right, ROI_top), (ROI_left, ROI_bottom), (194,129,81), 3)\n",
        "    cv2.rectangle(frame_copy, (x_right, y_top), (x_left, y_down), (194,129,81), 3)\n",
        "    num_frames += 1\n",
        "\n",
        "    \n",
        "#     cv2.namedWindow('frame', cv2.WINDOW_NORMAL)\n",
        "#     cv2.setWindowProperty('frame', cv2.WND_PROP_FULLSCREEN, cv2.WINDOW_FULLSCREEN)\n",
        "    cv2.imshow(\"Rock, Paper, Scissor...\", frame_copy)\n",
        "    player.play()  # Play the music\n",
        "    k = cv2.waitKey(1) & 0xFF\n",
        "    if k == 27:\n",
        "        player.stop()\n",
        "        break\n",
        "        \n",
        "# Release the camera and destroy all the windows\n",
        "\n",
        "cam.release()\n",
        "cv2.destroyAllWindows()"
      ]
    },
    {
      "cell_type": "code",
      "execution_count": null,
      "id": "503a6180",
      "metadata": {
        "id": "503a6180"
      },
      "outputs": [],
      "source": [
        ""
      ]
    },
    {
      "cell_type": "code",
      "execution_count": null,
      "id": "1e141435",
      "metadata": {
        "id": "1e141435"
      },
      "outputs": [],
      "source": [
        ""
      ]
    }
  ],
  "metadata": {
    "kernelspec": {
      "display_name": "Python 3 (ipykernel)",
      "language": "python",
      "name": "python3"
    },
    "language_info": {
      "codemirror_mode": {
        "name": "ipython",
        "version": 3
      },
      "file_extension": ".py",
      "mimetype": "text/x-python",
      "name": "python",
      "nbconvert_exporter": "python",
      "pygments_lexer": "ipython3",
      "version": "3.9.7"
    },
    "colab": {
      "name": "Prediction.ipynb",
      "provenance": [],
      "include_colab_link": true
    }
  },
  "nbformat": 4,
  "nbformat_minor": 5
}