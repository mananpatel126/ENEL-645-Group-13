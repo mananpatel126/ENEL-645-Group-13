{
 "cells": [
  {
   "cell_type": "markdown",
   "id": "562d93d6",
   "metadata": {
    "colab_type": "text",
    "id": "view-in-github"
   },
   "source": [
    "<a href=\"https://colab.research.google.com/github/mananpatel126/Teamwork/blob/main/Assignment/Assignment_1.ipynb\" target=\"_parent\"><img src=\"https://colab.research.google.com/assets/colab-badge.svg\" alt=\"Open In Colab\"/></a>"
   ]
  },
  {
   "cell_type": "markdown",
   "id": "8f7a89f8",
   "metadata": {
    "id": "8f7a89f8"
   },
   "source": [
    "<br>\n",
    "<div align=\"Center\"><font face=\"Calibri\" size=\"40px\" color=\"#000000\"><strong>ASSIGNMENT #01</strong></font></div>\n",
    "<br>\n",
    "<div align=\"Center\"><font face=\"Calibri\" size=\"28px\" color=\"#000000\"><strong>Python-Numpy-Programming</strong></font></div>\n",
    "<br>\n",
    "<div align=\"Center\"><font size=\"8\" face=\"Calibri\" size=\"14px\" color=\"#000000\"><strong>ENEL:- 645 Data Mining and Machine learning</strong> </font></div>\n",
    "    \n"
   ]
  },
  {
   "cell_type": "markdown",
   "id": "40c66a92",
   "metadata": {
    "id": "40c66a92"
   },
   "source": [
    "<br>\n",
    "<div align=\"Left\"><font size=\"6\" face=\"Calibri\" size=\"14px\" color=\"#000000\">Manan Patel : 30126849</font></div>\n",
    "<div align=\"Left\"><font size=\"6\" face=\"Calibri\" size=\"14px\" color=\"#000000\">Vishal Patel : 30126128</font></div>\n",
    "<div align=\"Left\"><font size=\"6\" face=\"Calibri\" size=\"14px\" color=\"#000000\">Dishank Bhavsar : 30136156</font></div>\n",
    "<div align=\"Left\"><font size=\"6\" face=\"Calibri\" size=\"14px\" color=\"#000000\">Karnav Joshi : 30126641</font></div>\n",
    "<div align=\"Left\"><font size=\"6\" face=\"Calibri\" size=\"14px\" color=\"#000000\">Romil Patel : 30129768</font></div>\n",
    "<div align=\"Left\"><font size=\"6\" face=\"Calibri\" size=\"14px\" color=\"#000000\">Jay Patel : 30110511</font></div>\n",
    "<br>\n"
   ]
  },
  {
   "cell_type": "markdown",
   "id": "9bb713c1",
   "metadata": {},
   "source": [
    "This assignment is composed of multiple Python and NumPy programming exercises. The deliverable of this assignment is this jupyter-notebook completed with your solution.\n",
    "\n",
    "The delivery instructions are the following:\n",
    "    - Create a GitHub repository for your team. You are free to choose its name. This repository will be used to delvier the programming assignments and the code of your team's final project.\n",
    "    - Create a folder assignment-01 in the repository. Put the jupyter-notebook with your solution in this repository and post the repository link in your team's D2L dropbox for the assignment.\n",
    "\n",
    "You are being assessed based on:\n",
    "\n",
    "1. Code execution - 25% \n",
    "2. Clarity of the code (e.g., easy to follow, has pertinent comments, etc.) - 25%\n",
    "3. Proper usage of the techniques seen in class - 25%\n",
    "                                remember to avoid explicit Python loops!  \n",
    "4. Quality and correcteness of the results - 25%\n",
    "\n",
    "More details about the assessment are available in the rubric document in the class GitHub repository.\n",
    "\n",
    "Points distribution:\n",
    "- Question 2-21: 3 points per question \n",
    "- Questions 22-26: 8 points per question (total 40)\n",
    "- Total: 100 ponits"
   ]
  },
  {
   "cell_type": "code",
   "execution_count": 3,
   "id": "534dc6b7",
   "metadata": {
    "id": "534dc6b7"
   },
   "outputs": [],
   "source": [
    "import matplotlib.pylab as plt"
   ]
  },
  {
   "cell_type": "markdown",
   "id": "36fb5296",
   "metadata": {
    "id": "36fb5296"
   },
   "source": [
    "### 1. Import the numpy package under the name np"
   ]
  },
  {
   "cell_type": "code",
   "execution_count": 4,
   "id": "L58s7U4g_gKH",
   "metadata": {
    "id": "L58s7U4g_gKH"
   },
   "outputs": [],
   "source": [
    "import numpy as np        # importing the numpy package"
   ]
  },
  {
   "cell_type": "markdown",
   "id": "f20af175",
   "metadata": {
    "id": "f20af175"
   },
   "source": [
    "### 2. Print the numpy version and the configuration"
   ]
  },
  {
   "cell_type": "code",
   "execution_count": 4,
   "id": "ce84f572",
   "metadata": {
    "colab": {
     "base_uri": "https://localhost:8080/"
    },
    "id": "ce84f572",
    "outputId": "89cc731d-7dbe-4280-a6b9-1a62a8cb86d1"
   },
   "outputs": [
    {
     "name": "stdout",
     "output_type": "stream",
     "text": [
      "1.19.5\n"
     ]
    }
   ],
   "source": [
    "print(np.__version__)     # printing the version of numpy"
   ]
  },
  {
   "cell_type": "code",
   "execution_count": 5,
   "id": "2c3e9c9d",
   "metadata": {
    "colab": {
     "base_uri": "https://localhost:8080/"
    },
    "id": "2c3e9c9d",
    "outputId": "9187591e-41b5-4851-c233-397c4c9a4818"
   },
   "outputs": [
    {
     "name": "stdout",
     "output_type": "stream",
     "text": [
      "blas_mkl_info:\n",
      "  NOT AVAILABLE\n",
      "blis_info:\n",
      "  NOT AVAILABLE\n",
      "openblas_info:\n",
      "    libraries = ['openblas', 'openblas']\n",
      "    library_dirs = ['/usr/local/lib']\n",
      "    language = c\n",
      "    define_macros = [('HAVE_CBLAS', None)]\n",
      "blas_opt_info:\n",
      "    libraries = ['openblas', 'openblas']\n",
      "    library_dirs = ['/usr/local/lib']\n",
      "    language = c\n",
      "    define_macros = [('HAVE_CBLAS', None)]\n",
      "lapack_mkl_info:\n",
      "  NOT AVAILABLE\n",
      "openblas_lapack_info:\n",
      "    libraries = ['openblas', 'openblas']\n",
      "    library_dirs = ['/usr/local/lib']\n",
      "    language = c\n",
      "    define_macros = [('HAVE_CBLAS', None)]\n",
      "lapack_opt_info:\n",
      "    libraries = ['openblas', 'openblas']\n",
      "    library_dirs = ['/usr/local/lib']\n",
      "    language = c\n",
      "    define_macros = [('HAVE_CBLAS', None)]\n",
      "None\n"
     ]
    }
   ],
   "source": [
    "print(np.show_config())   # printing the configuration of numpy"
   ]
  },
  {
   "cell_type": "markdown",
   "id": "2619ee08",
   "metadata": {
    "id": "2619ee08"
   },
   "source": [
    "### 3. Create a 1D array of zeros of size 10 of type float32\n",
    "\n"
   ]
  },
  {
   "cell_type": "code",
   "execution_count": 6,
   "id": "3e18051b",
   "metadata": {
    "colab": {
     "base_uri": "https://localhost:8080/"
    },
    "id": "3e18051b",
    "outputId": "9780fbfa-1ff3-4f61-bd35-3eb0479924a6"
   },
   "outputs": [
    {
     "name": "stdout",
     "output_type": "stream",
     "text": [
      "a =  [0. 0. 0. 0. 0. 0. 0. 0. 0. 0.]\n",
      "Shape of array =  (10,)\n",
      "Data type of array =  float32\n"
     ]
    }
   ],
   "source": [
    "a = np.zeros((10), dtype=np.float32)\n",
    "print(\"a = \", a)                           # Printing the array, a\n",
    "print(\"Shape of array = \", a.shape)        # Printing the shape of array, a \n",
    "print(\"Data type of array = \", a.dtype)    # Printing the data type of array, a"
   ]
  },
  {
   "cell_type": "markdown",
   "id": "4cbdc82d",
   "metadata": {
    "id": "4cbdc82d"
   },
   "source": [
    "### 4. Print the memory size of the array below"
   ]
  },
  {
   "cell_type": "code",
   "execution_count": 7,
   "id": "fceb1502",
   "metadata": {
    "colab": {
     "base_uri": "https://localhost:8080/"
    },
    "id": "fceb1502",
    "outputId": "ebe3472d-178f-4d5e-be5e-3b36718be681"
   },
   "outputs": [
    {
     "name": "stdout",
     "output_type": "stream",
     "text": [
      "Size of the array:  384\n",
      "The memory size of single array element:  8  bytes\n",
      "\n",
      "\n",
      "The memory size of numpy array : 3072  bytes\n"
     ]
    }
   ],
   "source": [
    "Z = np.zeros((32,12))\n",
    "\n",
    "#Printing the size of the array.\n",
    "print(\"Size of the array: \", Z.size)  \n",
    "\n",
    "# Printing the memory size of single array element. \n",
    "print(\"The memory size of single array element: \", Z.itemsize, \" bytes\")  \n",
    "\n",
    "print(\"\\n\")\n",
    "\n",
    "# Printing the memory size of numpy array in bytes.\n",
    "print(\"The memory size of numpy array :\", Z.size * Z.itemsize, \" bytes\") "
   ]
  },
  {
   "cell_type": "markdown",
   "id": "e38c17ed",
   "metadata": {
    "id": "e38c17ed"
   },
   "source": [
    "### 5. Create a 1D array with values ranging from 10 to 58"
   ]
  },
  {
   "cell_type": "code",
   "execution_count": 8,
   "id": "49c55152",
   "metadata": {
    "colab": {
     "base_uri": "https://localhost:8080/"
    },
    "id": "49c55152",
    "outputId": "1002164a-bbdb-46d9-95c1-c15edc1d1cfe"
   },
   "outputs": [
    {
     "name": "stdout",
     "output_type": "stream",
     "text": [
      "x = \n",
      " [10 11 12 13 14 15 16 17 18 19 20 21 22 23 24 25 26 27 28 29 30 31 32 33\n",
      " 34 35 36 37 38 39 40 41 42 43 44 45 46 47 48 49 50 51 52 53 54 55 56 57\n",
      " 58]\n"
     ]
    }
   ],
   "source": [
    "#Creating the 1D array with value ranging from 10 to 58 (both inclusive).\n",
    "x = np.arange(10, 59)\n",
    "\n",
    "print(\"x = \\n\", x)"
   ]
  },
  {
   "cell_type": "markdown",
   "id": "0109df74",
   "metadata": {
    "id": "0109df74"
   },
   "source": [
    "### 6. Reverse the order of the values in the vector (first element becomes last)"
   ]
  },
  {
   "cell_type": "code",
   "execution_count": 9,
   "id": "bdc3d5ee",
   "metadata": {
    "colab": {
     "base_uri": "https://localhost:8080/"
    },
    "id": "bdc3d5ee",
    "outputId": "f9f88c5d-7040-4851-fef7-dcda6871b125"
   },
   "outputs": [
    {
     "name": "stdout",
     "output_type": "stream",
     "text": [
      "Original vector =  [0 1 2 3 4 5 6 7 8 9]\n",
      "Reversed vector =  [9 8 7 6 5 4 3 2 1 0]\n"
     ]
    }
   ],
   "source": [
    "# Creating the given vector.\n",
    "a = np.arange(10)\n",
    "print(\"Original vector = \", a)\n",
    "\n",
    "# Reversing the order of the values in the given vector.\n",
    "a = a[::-1]\n",
    "print(\"Reversed vector = \", a)"
   ]
  },
  {
   "cell_type": "markdown",
   "id": "c3988188",
   "metadata": {
    "id": "c3988188"
   },
   "source": [
    "### 7. Create a 3x3 matrix with values ranging from 0 to 8"
   ]
  },
  {
   "cell_type": "code",
   "execution_count": 10,
   "id": "cbed338d",
   "metadata": {
    "colab": {
     "base_uri": "https://localhost:8080/"
    },
    "id": "cbed338d",
    "outputId": "c1bcbeaa-1617-4146-83c3-6b59adab6ff2"
   },
   "outputs": [
    {
     "name": "stdout",
     "output_type": "stream",
     "text": [
      "Matrix, a = \n",
      " [[0 1 2]\n",
      " [3 4 5]\n",
      " [6 7 8]]\n",
      "Matrix, b = \n",
      " [[0 1 2]\n",
      " [3 4 5]\n",
      " [6 7 8]]\n"
     ]
    }
   ],
   "source": [
    "# Creating a 1D array with value ranging from 0 to 8.\n",
    "a = np.arange(0,9)\n",
    "\n",
    "# Converting the above array into 3x3 matrix\n",
    "print(\"Matrix, a = \\n\", a.reshape(3,3))\n",
    "\n",
    "# Or executing both the above steps in one code line:\n",
    "print(\"Matrix, b = \\n\", np.arange(0,9).reshape(3,3))"
   ]
  },
  {
   "cell_type": "markdown",
   "id": "4094cd72",
   "metadata": {
    "id": "4094cd72"
   },
   "source": [
    "### 8. Create a 3x3 identity matrix"
   ]
  },
  {
   "cell_type": "code",
   "execution_count": 11,
   "id": "6b650e07",
   "metadata": {
    "colab": {
     "base_uri": "https://localhost:8080/"
    },
    "id": "6b650e07",
    "outputId": "be550394-b32b-4e7b-c2a0-1e75c0a5ce8d"
   },
   "outputs": [
    {
     "name": "stdout",
     "output_type": "stream",
     "text": [
      "Identity matrix, a = \n",
      " [[1 1 1]\n",
      " [1 1 1]\n",
      " [1 1 1]]\n"
     ]
    }
   ],
   "source": [
    "#Creating a 3x3 identity matrix.\n",
    "a = np.ones((3, 3), dtype=np.int8)       # data type set to integer in order to reduce the memory usage\n",
    "\n",
    "print(\"Identity matrix, a = \\n\", a)"
   ]
  },
  {
   "cell_type": "markdown",
   "id": "2b2b5697",
   "metadata": {
    "id": "2b2b5697"
   },
   "source": [
    "### 9. Find and print the maximum values of each column in the array below"
   ]
  },
  {
   "cell_type": "code",
   "execution_count": 12,
   "id": "302deb6d",
   "metadata": {
    "colab": {
     "base_uri": "https://localhost:8080/"
    },
    "id": "302deb6d",
    "outputId": "28391bfa-14d5-4a2f-dd45-9743bfed9cad"
   },
   "outputs": [
    {
     "name": "stdout",
     "output_type": "stream",
     "text": [
      "Z = \n",
      " [[0.89825535 0.13285021 0.63369551 0.03346769 0.8572979  0.03984583\n",
      "  0.30348664 0.42834446 0.96111357 0.46596042 0.87104955]\n",
      " [0.55344967 0.90420308 0.11197445 0.99923616 0.34272704 0.80492929\n",
      "  0.80034901 0.60103898 0.38718243 0.02629755 0.01551094]\n",
      " [0.84633824 0.1713093  0.83113025 0.2919441  0.69909499 0.72485253\n",
      "  0.9956539  0.80315848 0.88336077 0.3705253  0.57644055]\n",
      " [0.29575344 0.4687466  0.05300058 0.44958508 0.76280173 0.99173648\n",
      "  0.38594809 0.3618295  0.54684608 0.90468812 0.74323234]\n",
      " [0.4751428  0.61460379 0.03197665 0.63277314 0.12120642 0.60494895\n",
      "  0.79438154 0.18397656 0.59801743 0.95624911 0.60146295]\n",
      " [0.3777701  0.77953345 0.40164187 0.68087659 0.56342771 0.9504314\n",
      "  0.37525108 0.86667935 0.60845402 0.17972496 0.73204088]\n",
      " [0.70981001 0.72290045 0.12027412 0.15709282 0.81749574 0.12513822\n",
      "  0.90313655 0.27708023 0.53816427 0.20975653 0.25571886]\n",
      " [0.43644167 0.88097365 0.0090882  0.88064919 0.71608187 0.08460843\n",
      "  0.21104984 0.21366056 0.36260742 0.93979461 0.98657256]\n",
      " [0.9770719  0.09040356 0.62162887 0.35236941 0.49047157 0.27007769\n",
      "  0.08941436 0.86662552 0.52560803 0.1311472  0.13780971]\n",
      " [0.42592863 0.368489   0.11773153 0.55095649 0.65689135 0.99156267\n",
      "  0.8593857  0.19794523 0.76590872 0.85724149 0.91131252]] \n",
      "\n",
      "Maximum value of each column:  [0.9770719  0.90420308 0.83113025 0.99923616 0.8572979  0.99173648\n",
      " 0.9956539  0.86667935 0.96111357 0.95624911 0.98657256] \n",
      "\n",
      "Maximum value of each column (using another method):  [0.9770719  0.90420308 0.83113025 0.99923616 0.8572979  0.99173648\n",
      " 0.9956539  0.86667935 0.96111357 0.95624911 0.98657256]\n"
     ]
    }
   ],
   "source": [
    "# Creating a random array of 10x11.\n",
    "Z = np.random.random((10,11))\n",
    "print(\"Z = \\n\", Z, \"\\n\")\n",
    "\n",
    "# Finding the maximum value of each columns in the array above.\n",
    "print(\"Maximum value of each column: \", Z.max(0), \"\\n\")\n",
    "\n",
    "# OR\n",
    "\n",
    "# Finding the maximum value of each column in the array above.\n",
    "y_max = print(\"Maximum value of each column (using another method): \", np.amax(Z,axis=0))"
   ]
  },
  {
   "cell_type": "markdown",
   "id": "5c6ae16b",
   "metadata": {
    "id": "5c6ae16b"
   },
   "source": [
    "### 10. Create a  7x7 array with 1s on the borders (first row and column, last row and columns) and 0s everywhere else"
   ]
  },
  {
   "cell_type": "code",
   "execution_count": 13,
   "id": "6b2202a0",
   "metadata": {
    "colab": {
     "base_uri": "https://localhost:8080/"
    },
    "id": "6b2202a0",
    "outputId": "cfe9e9af-1f1f-4ea8-8a69-4c7610f34e58"
   },
   "outputs": [
    {
     "name": "stdout",
     "output_type": "stream",
     "text": [
      "[[1 1 1 1 1 1 1]\n",
      " [1 0 0 0 0 0 1]\n",
      " [1 0 0 0 0 0 1]\n",
      " [1 0 0 0 0 0 1]\n",
      " [1 0 0 0 0 0 1]\n",
      " [1 0 0 0 0 0 1]\n",
      " [1 1 1 1 1 1 1]]\n"
     ]
    }
   ],
   "source": [
    "# Creating a 7x7 array with 1s everywhere.\n",
    "a = np.ones((7,7), dtype=np.int8)         # keeping the data type as int to reduce memory usage\n",
    "\n",
    "# Assigning the central 6x6 array with value 0. \n",
    "a[1:-1, 1:-1] = 0\n",
    "\n",
    "print(a)"
   ]
  },
  {
   "cell_type": "markdown",
   "id": "d24d51e7",
   "metadata": {
    "id": "d24d51e7"
   },
   "source": [
    "### 11. Pad the existing array below with zeros (i.e., add additional rows and columns with zeros). Use the NumPy pad function."
   ]
  },
  {
   "cell_type": "code",
   "execution_count": 14,
   "id": "68763e7e",
   "metadata": {
    "colab": {
     "base_uri": "https://localhost:8080/"
    },
    "id": "68763e7e",
    "outputId": "0a841e83-2ba7-4406-b250-ee203fd87962"
   },
   "outputs": [
    {
     "name": "stdout",
     "output_type": "stream",
     "text": [
      "[[0. 0. 0. 0. 0. 0. 0.]\n",
      " [0. 1. 1. 1. 1. 1. 0.]\n",
      " [0. 1. 1. 1. 1. 1. 0.]\n",
      " [0. 1. 1. 1. 1. 1. 0.]\n",
      " [0. 1. 1. 1. 1. 1. 0.]\n",
      " [0. 1. 1. 1. 1. 1. 0.]\n",
      " [0. 0. 0. 0. 0. 0. 0.]]\n"
     ]
    }
   ],
   "source": [
    "# Creating the given 5x5 array with 1s everywhere.\n",
    "Z = np.ones((5,5))\n",
    "\n",
    "# Now, using the pad function, adding additional rows and columns with zeros on all the borders.\n",
    "print(np.pad(Z, [(1,1)], mode='constant'))"
   ]
  },
  {
   "cell_type": "markdown",
   "id": "279a1f62",
   "metadata": {
    "id": "279a1f62"
   },
   "source": [
    "### 12. Extract the integer part of the random array of positive numbers below"
   ]
  },
  {
   "cell_type": "code",
   "execution_count": 15,
   "id": "893ea6cb",
   "metadata": {
    "colab": {
     "base_uri": "https://localhost:8080/"
    },
    "id": "893ea6cb",
    "outputId": "aaf5a9e7-1242-4251-f3ff-84c5d8e000a2"
   },
   "outputs": [
    {
     "name": "stdout",
     "output_type": "stream",
     "text": [
      "Original array :  [1.84998569 8.8755921  5.25085851 2.21433386 1.41761149 7.81321781\n",
      " 1.96872592 0.43171402 9.01132389 7.17407598] \n",
      "\n",
      "Array of Integer :  [1 8 5 2 1 7 1 0 9 7]\n"
     ]
    }
   ],
   "source": [
    "# Creating the random array of positive numbers below\n",
    "Z = np.random.uniform(0,10,10)\n",
    "print(\"Original array : \", Z,\"\\n\")\n",
    "\n",
    "# Converting the array element of above array into the integer values.\n",
    "print(\"Array of Integer : \", Z.astype(int))"
   ]
  },
  {
   "cell_type": "markdown",
   "id": "1690dd69",
   "metadata": {
    "id": "1690dd69"
   },
   "source": [
    "### 13. Create a 5x5 matrix with rows with equal values ranging from 0 to 4 (i.e., [0,1,2,3,4])\n",
    "*Hint:* consider using NumPy broadcasting or the tile function*"
   ]
  },
  {
   "cell_type": "code",
   "execution_count": 16,
   "id": "d1f490ab",
   "metadata": {
    "colab": {
     "base_uri": "https://localhost:8080/"
    },
    "id": "d1f490ab",
    "outputId": "2c8d4930-9c54-4862-e7b2-bdf70c75060e"
   },
   "outputs": [
    {
     "name": "stdout",
     "output_type": "stream",
     "text": [
      "Matrix using broadcasting function : \n",
      " [[0 1 2 3 4]\n",
      " [0 1 2 3 4]\n",
      " [0 1 2 3 4]\n",
      " [0 1 2 3 4]\n",
      " [0 1 2 3 4]]\n",
      "\n",
      "Matrix using tile function : \n",
      " [[0 1 2 3 4]\n",
      " [0 1 2 3 4]\n",
      " [0 1 2 3 4]\n",
      " [0 1 2 3 4]\n",
      " [0 1 2 3 4]]\n"
     ]
    }
   ],
   "source": [
    "# Creating a 1D array of values ranging from 0 to 4.\n",
    "x = np.array([0, 1, 2, 3, 4])\n",
    "\n",
    "#Converting a given array into 5x5 matrix with rows with equal values ranging from 0 to 4.\n",
    "a = np.broadcast_to(x, (5, 5))\n",
    "print(\"Matrix using broadcasting function : \\n\", a)\n",
    "\n",
    "#Converting a given array into 5x5 matrix with rows with equal values ranging from 0 to 4.\n",
    "c = np.tile(x,(5,1))\n",
    "print(\"\\nMatrix using tile function : \\n\", c)"
   ]
  },
  {
   "cell_type": "markdown",
   "id": "6c7075a6",
   "metadata": {
    "id": "6c7075a6"
   },
   "source": [
    "### 14. Create a vector of size 10 with values ranging from 0 to 1 (0 and 1 not included)\n",
    "*Hint: Consider using the linspace function*"
   ]
  },
  {
   "cell_type": "code",
   "execution_count": 17,
   "id": "af3cf4b3",
   "metadata": {
    "colab": {
     "base_uri": "https://localhost:8080/"
    },
    "id": "af3cf4b3",
    "outputId": "569aa51f-e460-4494-eaf2-499ff6ba8569"
   },
   "outputs": [
    {
     "name": "stdout",
     "output_type": "stream",
     "text": [
      "[0.09090909 0.18181818 0.27272727 0.36363636 0.45454545 0.54545455\n",
      " 0.63636364 0.72727273 0.81818182 0.90909091] \n",
      "Another way:\n",
      " [0.09090909 0.18181818 0.27272727 0.36363636 0.45454545 0.54545455\n",
      " 0.63636364 0.72727273 0.81818182 0.90909091]\n"
     ]
    }
   ],
   "source": [
    "# Creating a vector of size 12 with values from 0 to 1 using linspace;\n",
    "# then slicing off 0 and 1 to finally achieve the vector of size 10.\n",
    "a = np.linspace(0,1,12)[1:-1]\n",
    "\n",
    "print(a, \"\\nAnother way:\\n\", np.linspace(0, 1, 11, endpoint=0)[1:])\n",
    "# Another way excludes the stop point in linspace, so array of size 11 created\n",
    "# then slicing off the unwanted starting element i.e. 0"
   ]
  },
  {
   "cell_type": "markdown",
   "id": "d2b0b57a",
   "metadata": {
    "id": "d2b0b57a"
   },
   "source": [
    "### 15. Create a random vector of size 10 and sort it"
   ]
  },
  {
   "cell_type": "code",
   "execution_count": 18,
   "id": "3a99f476",
   "metadata": {
    "colab": {
     "base_uri": "https://localhost:8080/"
    },
    "id": "3a99f476",
    "outputId": "70fc03e8-b8b9-44ce-b101-af8f4c6a08d2"
   },
   "outputs": [
    {
     "name": "stdout",
     "output_type": "stream",
     "text": [
      "Original array:  [38 23 97 16 30 92 85 93 25 99] \n",
      "\n",
      "Sorted array:  [16 23 25 30 38 85 92 93 97 99]\n"
     ]
    }
   ],
   "source": [
    "#Creating a random vector of size 10.\n",
    "x = np.random.randint(0,100,10)\n",
    "print(\"Original array: \", x, \"\\n\")\n",
    "\n",
    "#Sorting the above array in assending order.\n",
    "x.sort()\n",
    "print(\"Sorted array: \", x)"
   ]
  },
  {
   "cell_type": "markdown",
   "id": "1c663163",
   "metadata": {
    "id": "1c663163"
   },
   "source": [
    "### 16. Consider the cartesian coordinates below (X and Y), convert them to polar coordinates (R and T)"
   ]
  },
  {
   "cell_type": "code",
   "execution_count": 19,
   "id": "ef29d319",
   "metadata": {
    "colab": {
     "base_uri": "https://localhost:8080/"
    },
    "id": "ef29d319",
    "outputId": "286a9a6b-4be0-416f-e30e-29bf3c677c67"
   },
   "outputs": [
    {
     "name": "stdout",
     "output_type": "stream",
     "text": [
      "Cartesian coordinates: \n",
      "X =  [0.32191915 0.10385602 0.96974122 0.11977439 0.36975694 0.94122684\n",
      " 0.58362088 0.55489001 0.71786618 0.86257246] \n",
      "Y =  [0.35108694 0.05190422 0.62472702 0.11628519 0.47326461 0.4232403\n",
      " 0.74735758 0.69937589 0.30540995 0.88632777] \n",
      "\n",
      "Polar Coordinates: \n",
      "R =  [0.47633389 0.11610392 1.15355185 0.16693756 0.60058271 1.0320079\n",
      " 0.94823873 0.89276511 0.78013274 1.23677329] \n",
      "T =  [0.82871062 0.46346429 0.57230145 0.77061824 0.90756845 0.42257843\n",
      " 0.90780295 0.90008821 0.40224441 0.79898032]\n"
     ]
    }
   ],
   "source": [
    "#Creating a random variable of 10x2 matrix.\n",
    "Z = np.random.random((10,2))\n",
    "X,Y = Z[:,0], Z[:,1]  #Saperating X and Y coordinates from 10x2 matrix.\n",
    "\n",
    "#Converting X and Y cartesian coordinates into the polar coordinates (R and T).\n",
    "R = np.sqrt(X**2 + Y**2)\n",
    "T = np.arctan2(Y, X)\n",
    "\n",
    "print(\"Cartesian coordinates: \\nX = \", X,\"\\nY = \", Y, \"\\n\\nPolar Coordinates: \\nR = \", R, \"\\nT = \", T)"
   ]
  },
  {
   "cell_type": "markdown",
   "id": "5ab97d79",
   "metadata": {
    "id": "5ab97d79"
   },
   "source": [
    "### 17. Create random vector of size 10 and replace the maximum value by 0"
   ]
  },
  {
   "cell_type": "code",
   "execution_count": 20,
   "id": "8cf5d67e",
   "metadata": {
    "colab": {
     "base_uri": "https://localhost:8080/"
    },
    "id": "8cf5d67e",
    "outputId": "6c932ab0-2612-405e-9369-bf46bd5bb8f4"
   },
   "outputs": [
    {
     "name": "stdout",
     "output_type": "stream",
     "text": [
      "Original Vector:  [0.48714983 0.42815647 0.54503787 0.45083404 0.06521081 0.05784144\n",
      " 0.21106267 0.61619113 0.81191994 0.46644046]\n",
      "\n",
      " Position of max value in a given vector 8\n",
      "\n",
      " New Vector:  [0.48714983 0.42815647 0.54503787 0.45083404 0.06521081 0.05784144\n",
      " 0.21106267 0.61619113 0.         0.46644046]\n"
     ]
    }
   ],
   "source": [
    "#Create random vector of size 10.\n",
    "Z = np.random.random((10))\n",
    "print(\"Original Vector: \", Z)\n",
    "\n",
    "#Finding the index of max value in a given vector.\n",
    "position = Z.argmax()\n",
    "\n",
    "#Printing the position of max value in a given vector.\n",
    "print(\"\\n\", \"Position of max value in a given vector\", position)\n",
    "\n",
    "#Replacing the max value by zero in a given vector.\n",
    "Z[position] = 0\n",
    "\n",
    "print(\"\\n\", \"New Vector: \", Z)"
   ]
  },
  {
   "cell_type": "markdown",
   "id": "e9794cea",
   "metadata": {
    "id": "e9794cea"
   },
   "source": [
    "### 18. Find the nearest value from a given value (z) in an array (Z)"
   ]
  },
  {
   "cell_type": "code",
   "execution_count": 21,
   "id": "fd6d1db8",
   "metadata": {
    "colab": {
     "base_uri": "https://localhost:8080/"
    },
    "id": "fd6d1db8",
    "outputId": "c4f9ac6b-e04f-48ce-8f9f-9f985d868cb5"
   },
   "outputs": [
    {
     "name": "stdout",
     "output_type": "stream",
     "text": [
      "Array Z =  [0.54185407 0.15015941 0.58170487 0.16480682 0.814384   0.03473178\n",
      " 0.11876746 0.67429061 0.670806   0.78043469] \n",
      "Entry closest to  0.5  :  0.5418540712430627\n"
     ]
    }
   ],
   "source": [
    "# Creating random uniform vector.\n",
    "Z = np.random.uniform(0,1,10)\n",
    "z = 0.5\n",
    "\n",
    "# Finding the absolute difference between the each element of Z array and the value of z.\n",
    "X = np.abs(Z-z)\n",
    "\n",
    "# Finding the smallest value in X array and printing the same indexed value from Z array.\n",
    "print(\"Array Z = \", Z, \"\\nEntry closest to \",z,\" : \" , Z[X.argmin()])"
   ]
  },
  {
   "cell_type": "markdown",
   "id": "fa7977ee",
   "metadata": {
    "id": "fa7977ee"
   },
   "source": [
    "### 19. Consider the vector [5, 4, 3, 2, 1], how to build a new vector with 3 consecutive zeros interleaved between each value?"
   ]
  },
  {
   "cell_type": "code",
   "execution_count": 22,
   "id": "311c6fce",
   "metadata": {
    "colab": {
     "base_uri": "https://localhost:8080/"
    },
    "id": "311c6fce",
    "outputId": "5b48c742-dc7f-4d51-d5b9-2654cebc9a88"
   },
   "outputs": [
    {
     "name": "stdout",
     "output_type": "stream",
     "text": [
      "Original vector:  [5 4 3 2 1] \n",
      "Required vector:  [5 0 0 0 4 0 0 0 3 0 0 0 2 0 0 0 1]\n"
     ]
    }
   ],
   "source": [
    "# Creating the vector as given in the question.\n",
    "Z = np.arange(6)[:0:-1]\n",
    "\n",
    "# Creating a total 12 number of zeros element in 1D array.\n",
    "X = np.zeros(len(Z) + 3*(len(Z)-1), dtype=np.int8)\n",
    "\n",
    "# Merging the above two arrays as required in the question.\n",
    "X[:: 4] = Z\n",
    "print(\"Original vector: \", Z, \"\\nRequired vector: \", X)"
   ]
  },
  {
   "cell_type": "markdown",
   "id": "3c550f53",
   "metadata": {
    "id": "3c550f53"
   },
   "source": [
    "### 20. Consider an array of dimension (5,5,3), how to mulitply it element-wise by an array with dimensions (5,5) - i.e., (5,5,0)(5,5), (5,5,1)(5,5), (5,5,2)(5,5)"
   ]
  },
  {
   "cell_type": "code",
   "execution_count": 23,
   "id": "080fa0dc",
   "metadata": {
    "colab": {
     "base_uri": "https://localhost:8080/"
    },
    "id": "080fa0dc",
    "outputId": "171c2092-ee96-4539-8f71-a4c5c11d7000"
   },
   "outputs": [
    {
     "name": "stdout",
     "output_type": "stream",
     "text": [
      "[[[2. 2. 2.]\n",
      "  [2. 2. 2.]\n",
      "  [2. 2. 2.]\n",
      "  [2. 2. 2.]\n",
      "  [2. 2. 2.]]\n",
      "\n",
      " [[2. 2. 2.]\n",
      "  [2. 2. 2.]\n",
      "  [2. 2. 2.]\n",
      "  [2. 2. 2.]\n",
      "  [2. 2. 2.]]\n",
      "\n",
      " [[2. 2. 2.]\n",
      "  [2. 2. 2.]\n",
      "  [2. 2. 2.]\n",
      "  [2. 2. 2.]\n",
      "  [2. 2. 2.]]\n",
      "\n",
      " [[2. 2. 2.]\n",
      "  [2. 2. 2.]\n",
      "  [2. 2. 2.]\n",
      "  [2. 2. 2.]\n",
      "  [2. 2. 2.]]\n",
      "\n",
      " [[2. 2. 2.]\n",
      "  [2. 2. 2.]\n",
      "  [2. 2. 2.]\n",
      "  [2. 2. 2.]\n",
      "  [2. 2. 2.]]]\n",
      "(5, 5, 1)\n"
     ]
    }
   ],
   "source": [
    "#Creating a array of (5,5,3) 1s matrix.\n",
    "A = np.ones((5,5,3))\n",
    "\n",
    "#Creating a array of (5,5) 2s matrix.\n",
    "B = 2*np.ones((5,5))\n",
    "\n",
    "#Converting it into 5*5*1 matrix\n",
    "C = B[:,:,None]  \n",
    "\n",
    "print(A*C)\n",
    "print(C.shape)"
   ]
  },
  {
   "cell_type": "markdown",
   "id": "c6f22747",
   "metadata": {
    "id": "c6f22747"
   },
   "source": [
    "### 21. Swap the first and second rows of the 2D array below"
   ]
  },
  {
   "cell_type": "code",
   "execution_count": 24,
   "id": "4870dbb9",
   "metadata": {
    "colab": {
     "base_uri": "https://localhost:8080/"
    },
    "id": "4870dbb9",
    "outputId": "c4bbe4f5-2374-475a-e9d8-23bef5490a66"
   },
   "outputs": [
    {
     "name": "stdout",
     "output_type": "stream",
     "text": [
      "Original array: \n",
      " [[ 0  1  2  3  4]\n",
      " [ 5  6  7  8  9]\n",
      " [10 11 12 13 14]\n",
      " [15 16 17 18 19]\n",
      " [20 21 22 23 24]\n",
      " [25 26 27 28 29]]\n",
      "\n",
      " New array: \n",
      " [[ 5  6  7  8  9]\n",
      " [ 0  1  2  3  4]\n",
      " [10 11 12 13 14]\n",
      " [15 16 17 18 19]\n",
      " [20 21 22 23 24]\n",
      " [25 26 27 28 29]]\n"
     ]
    }
   ],
   "source": [
    "#Creating a 65 matrix.\n",
    "W = np.arange(30).reshape(6,5)\n",
    "print(\"Original array: \\n\", W)\n",
    "\n",
    "#Swapping the first and second row with eachother.\n",
    "W[[0,1]] = W[[1,0]]\n",
    "print(\"\\n\", \"New array: \\n\", W)"
   ]
  },
  {
   "cell_type": "markdown",
   "id": "b30b00b5",
   "metadata": {
    "id": "b30b00b5"
   },
   "source": [
    "### 22. Write a function that receives as input a 2D Boolean NumPy array and outputs the coordinates of the minimal bounding-box that encloses all non-zero elements in the input array\n",
    "\n",
    "**Tip:** search for the functions nonzero and where in the NumPy documentation.\n",
    "\n",
    "\n"
   ]
  },
  {
   "cell_type": "code",
   "execution_count": 6,
   "id": "2d93e265",
   "metadata": {
    "colab": {
     "base_uri": "https://localhost:8080/",
     "height": 827
    },
    "id": "2d93e265",
    "outputId": "275deb33-141f-4a3d-a911-b8b6c8292066"
   },
   "outputs": [
    {
     "data": {
      "image/png": "[encoded data removed]",
      "text/plain": [
       "<Figure size 432x288 with 1 Axes>"
      ]
     },
     "metadata": {
      "needs_background": "light"
     },
     "output_type": "display_data"
    },
    {
     "data": {
      "image/png": "[encoded data removed]",
      "text/plain": [
       "<Figure size 432x288 with 1 Axes>"
      ]
     },
     "metadata": {
      "needs_background": "light"
     },
     "output_type": "display_data"
    },
    {
     "name": "stdout",
     "output_type": "stream",
     "text": [
      "\n",
      "\n",
      "Output coordinates:  ((29, 50), (342, 431))\n",
      "\n",
      "\n"
     ]
    },
    {
     "data": {
      "image/png": "[encoded data removed]",
      "text/plain": [
       "<Figure size 432x288 with 1 Axes>"
      ]
     },
     "metadata": {
      "needs_background": "light"
     },
     "output_type": "display_data"
    }
   ],
   "source": [
    "# Define a function for finding the coordinates of the minimal bounding-box that encloses all non-zero elements in the input array\n",
    "def bbox(img):\n",
    "    a = np.argwhere(img)    # Creating a matrix(72825x2) having true boolean value  \n",
    "    r1 = np.amin(a[:,0:1])  # From the above matrix, extracting top left coordinates\n",
    "    c1 = np.amin(a[:,1:])   # From the above matrix, extracting top left coordinates\n",
    "    r2 = np.amax(a[:,0:1])  # From the above matrix, extracting bottom Right coordinates\n",
    "    c2 = np.amax(a[:,1:])   # From the above matrix, extracting bottom Right coordinates\n",
    "    return (r1,c1),(r2,c2)\n",
    "\n",
    "from PIL import Image\n",
    "\n",
    "img = np.array(Image.open('bin_image.png').convert('L')) > 0  #Downloaded the image and opened from local path\n",
    "(r1,c1),(r2,c2)=bbox(img)\n",
    "\n",
    "# Showing input image\n",
    "figure, axis = plt.subplots()\n",
    "axis.imshow(img)\n",
    "axis.set_title(\"Input image\")\n",
    "plt.show()\n",
    "\n",
    "# Highlighting the object/Add patch to the Axes\n",
    "import matplotlib.patches as patches\n",
    "figure, axis = plt.subplots()\n",
    "axis.imshow(img)\n",
    "rectangle = patches.Rectangle((c1,r1), c2-c1, r2-r1, linewidth=2, edgecolor='r', facecolor='none')\n",
    "axis.add_patch(rectangle)\n",
    "axis.set_title(\"Object Highlighted\")\n",
    "plt.show()\n",
    "\n",
    "print(\"\\n\")\n",
    "print(\"Output coordinates: \", bbox(img))\n",
    "print(\"\\n\")\n",
    "\n",
    "#Ploting the cropped image just for reference.\n",
    "figure, axis = plt.subplots()\n",
    "plt.imshow(img[r1:r2,c1:c2])\n",
    "axis.set_title(\"Cropped image\")\n",
    "plt.show()"
   ]
  },
  {
   "cell_type": "code",
   "execution_count": 1,
   "id": "mYB-EiJzJw5L",
   "metadata": {
    "colab": {
     "base_uri": "https://localhost:8080/"
    },
    "id": "mYB-EiJzJw5L",
    "outputId": "a25e43e8-7cf4-4137-d986-26a666c561bd"
   },
   "outputs": [
    {
     "name": "stderr",
     "output_type": "stream",
     "text": [
      "'pwd' is not recognized as an internal or external command,\n",
      "operable program or batch file.\n"
     ]
    }
   ],
   "source": [
    "!pwd   # used to see the current directory, and uploaded the image in that directory "
   ]
  },
  {
   "cell_type": "markdown",
   "id": "a8e5802e",
   "metadata": {
    "id": "a8e5802e"
   },
   "source": [
    "### 23.Write a function to compute the average over a sliding window of length N over a 1D array?\n",
    "*Example:* [1,2,3,4,5,6,7,8,9], N = 3 -> [2,5,8]"
   ]
  },
  {
   "cell_type": "code",
   "execution_count": 27,
   "id": "b4a0e0b8",
   "metadata": {
    "colab": {
     "base_uri": "https://localhost:8080/"
    },
    "id": "b4a0e0b8",
    "outputId": "dbed25a0-2475-4e16-9c78-e9690c6804bf"
   },
   "outputs": [
    {
     "name": "stdout",
     "output_type": "stream",
     "text": [
      "[ 1.  4.  7. 10. 13. 16. 19. 22. 25. 28.]\n"
     ]
    }
   ],
   "source": [
    "# Define a function to compute the average over a sliding window of length N over a 1D array.\n",
    "def moving_average(x,N = 3):\n",
    "    cum = np.cumsum(x, dtype=float)   # Calculate the cumulative sum array of given array.\n",
    "    cum[N:] = cum[N:] - cum[:-N]\n",
    "    a = cum[N - 1:] / N\n",
    "    return a[0::N]\n",
    "\n",
    "a = np.arange(30)\n",
    "N = 3\n",
    "print(moving_average(a,N))"
   ]
  },
  {
   "cell_type": "markdown",
   "id": "cb4bcd65",
   "metadata": {
    "id": "cb4bcd65"
   },
   "source": [
    "### 24. Given a sorted 1D array C that corresponds to a bincount, how to produce an array A such that np.bincount(A) == C?\n",
    "*Example:* C = [3,2,4] -> D = [0,0,0,1,1,2,2,2,2]\n",
    "\n",
    "*Tip:* Consider using the NumPy repeat function"
   ]
  },
  {
   "cell_type": "code",
   "execution_count": 28,
   "id": "6fb571e3",
   "metadata": {
    "colab": {
     "base_uri": "https://localhost:8080/"
    },
    "id": "6fb571e3",
    "outputId": "ca67515b-6467-426f-d61a-03f98781177f"
   },
   "outputs": [
    {
     "name": "stdout",
     "output_type": "stream",
     "text": [
      "C =  [0 2 1 1 2 0 1] -> A =  [1 1 2 3 4 4 6]\n"
     ]
    }
   ],
   "source": [
    "C = np.bincount([1,1,2,3,4,4,6])\n",
    "\n",
    "A = np.repeat(np.arange(len(C)), C)\n",
    "print(\"C = \", C, \"-> A = \", A)"
   ]
  },
  {
   "cell_type": "markdown",
   "id": "a880f0c1",
   "metadata": {
    "id": "a880f0c1"
   },
   "source": [
    "### 25. Find the most frequent value in the array below?"
   ]
  },
  {
   "cell_type": "code",
   "execution_count": 29,
   "id": "65059b0d",
   "metadata": {
    "colab": {
     "base_uri": "https://localhost:8080/"
    },
    "id": "65059b0d",
    "outputId": "0093ac47-aae4-40ed-e315-d8ffb0e0741e"
   },
   "outputs": [
    {
     "name": "stdout",
     "output_type": "stream",
     "text": [
      "Z =  [9 9 1 6 2 0 2 4 5 9 8 9 9 4 1 7 4 3 0 7 0 0 0 1 1 2 5 0 1 0 9 6 2 5 3 7 6\n",
      " 6 3 3 0 6 9 5 6 7 7 8 7 7]\n",
      "Most frequent value in the array: 0\n"
     ]
    }
   ],
   "source": [
    "# Creating a random integer array\n",
    "Z = np.random.randint(0,10,50)\n",
    "print(\"Z = \", Z)\n",
    "print('Most frequent value in the array:', np.bincount(Z).argmax())\n",
    "# counted the number of occurance of each element of the array using bincount\n",
    "# and found the maximum of that using argmax"
   ]
  },
  {
   "cell_type": "markdown",
   "id": "92d7026c",
   "metadata": {
    "id": "92d7026c"
   },
   "source": [
    "### 26. Write a function to return the n largest values of an array"
   ]
  },
  {
   "cell_type": "code",
   "execution_count": 30,
   "id": "985ea7ca",
   "metadata": {
    "colab": {
     "base_uri": "https://localhost:8080/"
    },
    "id": "985ea7ca",
    "outputId": "bcffa3d5-6f30-40f9-c0b7-66018b6e369b"
   },
   "outputs": [
    {
     "name": "stdout",
     "output_type": "stream",
     "text": [
      "The largest 5 values of an array are: [9999 9998 9997 9996 9995]\n"
     ]
    }
   ],
   "source": [
    "# Define the function to fine the n largest values of an array\n",
    "def nlargest(a,n = 5):\n",
    "    d = np.sort(a)       # sorting the array in ascending order\n",
    "    d = d[::-1]          # inversing the sorted array i.e. array sorted in descending order\n",
    "    return d[0:n]        # return the n largest values\n",
    "\n",
    "Z = np.arange(10000)\n",
    "np.random.shuffle(Z)\n",
    "n = 5\n",
    "print(\"The largest\", n, \"values of an array are:\", nlargest(Z,n))  "
   ]
  }
 ],
 "metadata": {
  "colab": {
   "include_colab_link": true,
   "name": "Assignment_1.ipynb",
   "provenance": []
  },
  "kernelspec": {
   "display_name": "Python 3 (ipykernel)",
   "language": "python",
   "name": "python3"
  },
  "language_info": {
   "codemirror_mode": {
    "name": "ipython",
    "version": 3
   },
   "file_extension": ".py",
   "mimetype": "text/x-python",
   "name": "python",
   "nbconvert_exporter": "python",
   "pygments_lexer": "ipython3",
   "version": "3.9.7"
  }
 },
 "nbformat": 4,
 "nbformat_minor": 5
}
