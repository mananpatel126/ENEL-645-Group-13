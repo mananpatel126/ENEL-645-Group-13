{
  "cells": [
    {
      "cell_type": "markdown",
      "metadata": {
        "id": "view-in-github",
        "colab_type": "text"
      },
      "source": [
        "<a href=\"https://colab.research.google.com/github/mananpatel126/Teamwork/blob/main/Assignment/Assignment_1.ipynb\" target=\"_parent\"><img src=\"https://colab.research.google.com/assets/colab-badge.svg\" alt=\"Open In Colab\"/></a>"
      ]
    },
    {
      "cell_type": "markdown",
      "id": "8f7a89f8",
      "metadata": {
        "id": "8f7a89f8"
      },
      "source": [
        "<br>\n",
        "<div align=\"Center\"><font face=\"Calibri\" size=\"40px\" color=\"#000000\"><strong>ASSIGNMENT #01</strong></font></div>\n",
        "<br>\n",
        "<div align=\"Center\"><font face=\"Calibri\" size=\"28px\" color=\"#000000\"><strong>Python-Numpy-Programming</strong></font></div>\n",
        "<br>\n",
        "<div align=\"Center\"><font size=\"8\" face=\"Calibri\" size=\"14px\" color=\"#000000\"><strong>ENEL:- 645 Data Mining and Machine learning</strong> </font></div>\n",
        "    \n"
      ]
    },
    {
      "cell_type": "markdown",
      "id": "40c66a92",
      "metadata": {
        "id": "40c66a92"
      },
      "source": [
        "<br>\n",
        "<div align=\"Left\"><font size=\"6\" face=\"Calibri\" size=\"14px\" color=\"#000000\">Manan Patel : 30126849</font></div>\n",
        "<div align=\"Left\"><font size=\"6\" face=\"Calibri\" size=\"14px\" color=\"#000000\">Vishal Patel : 30126128</font></div>\n",
        "<div align=\"Left\"><font size=\"6\" face=\"Calibri\" size=\"14px\" color=\"#000000\">Dishank Bhavsar : 30136156</font></div>\n",
        "<div align=\"Left\"><font size=\"6\" face=\"Calibri\" size=\"14px\" color=\"#000000\">Karnav Joshi : 30126641</font></div>\n",
        "<div align=\"Left\"><font size=\"6\" face=\"Calibri\" size=\"14px\" color=\"#000000\">Romil Patel : 30129768</font></div>\n",
        "<div align=\"Left\"><font size=\"6\" face=\"Calibri\" size=\"14px\" color=\"#000000\">Jay Patel : 30110511</font></div>\n",
        "<br>\n"
      ]
    },
    {
      "cell_type": "code",
      "execution_count": null,
      "id": "534dc6b7",
      "metadata": {
        "id": "534dc6b7"
      },
      "outputs": [],
      "source": [
        "import matplotlib.pylab as plt"
      ]
    },
    {
      "cell_type": "markdown",
      "id": "36fb5296",
      "metadata": {
        "id": "36fb5296"
      },
      "source": [
        "### 1. Import the numpy package under the name np"
      ]
    },
    {
      "cell_type": "code",
      "source": [
        "import numpy as np        # importing the numpy package"
      ],
      "metadata": {
        "id": "L58s7U4g_gKH"
      },
      "id": "L58s7U4g_gKH",
      "execution_count": null,
      "outputs": []
    },
    {
      "cell_type": "markdown",
      "id": "f20af175",
      "metadata": {
        "id": "f20af175"
      },
      "source": [
        "### 2. Print the numpy version and the configuration"
      ]
    },
    {
      "cell_type": "code",
      "execution_count": null,
      "id": "ce84f572",
      "metadata": {
        "colab": {
          "base_uri": "https://localhost:8080/"
        },
        "id": "ce84f572",
        "outputId": "8c565116-1af1-4232-afca-2784a629d8fe"
      },
      "outputs": [
        {
          "output_type": "stream",
          "name": "stdout",
          "text": [
            "1.19.5\n"
          ]
        }
      ],
      "source": [
        "print(np.__version__)     # printing the version of numpy"
      ]
    },
    {
      "cell_type": "code",
      "execution_count": null,
      "id": "2c3e9c9d",
      "metadata": {
        "colab": {
          "base_uri": "https://localhost:8080/"
        },
        "id": "2c3e9c9d",
        "outputId": "f24deecf-078f-4e7a-a80d-a29c4cd3fcf3"
      },
      "outputs": [
        {
          "output_type": "stream",
          "name": "stdout",
          "text": [
            "blas_mkl_info:\n",
            "  NOT AVAILABLE\n",
            "blis_info:\n",
            "  NOT AVAILABLE\n",
            "openblas_info:\n",
            "    libraries = ['openblas', 'openblas']\n",
            "    library_dirs = ['/usr/local/lib']\n",
            "    language = c\n",
            "    define_macros = [('HAVE_CBLAS', None)]\n",
            "blas_opt_info:\n",
            "    libraries = ['openblas', 'openblas']\n",
            "    library_dirs = ['/usr/local/lib']\n",
            "    language = c\n",
            "    define_macros = [('HAVE_CBLAS', None)]\n",
            "lapack_mkl_info:\n",
            "  NOT AVAILABLE\n",
            "openblas_lapack_info:\n",
            "    libraries = ['openblas', 'openblas']\n",
            "    library_dirs = ['/usr/local/lib']\n",
            "    language = c\n",
            "    define_macros = [('HAVE_CBLAS', None)]\n",
            "lapack_opt_info:\n",
            "    libraries = ['openblas', 'openblas']\n",
            "    library_dirs = ['/usr/local/lib']\n",
            "    language = c\n",
            "    define_macros = [('HAVE_CBLAS', None)]\n",
            "None\n"
          ]
        }
      ],
      "source": [
        "print(np.show_config())   # printing the configuration of numpy"
      ]
    },
    {
      "cell_type": "markdown",
      "id": "2619ee08",
      "metadata": {
        "id": "2619ee08"
      },
      "source": [
        "### 3. Create a 1D array of zeros of size 10 of type float32\n",
        "\n"
      ]
    },
    {
      "cell_type": "code",
      "execution_count": null,
      "id": "3e18051b",
      "metadata": {
        "colab": {
          "base_uri": "https://localhost:8080/"
        },
        "id": "3e18051b",
        "outputId": "af8e6af5-fa6d-4514-ca47-c47f99be9171"
      },
      "outputs": [
        {
          "output_type": "stream",
          "name": "stdout",
          "text": [
            "a =  [0. 0. 0. 0. 0. 0. 0. 0. 0. 0.]\n",
            "Shape of array =  (10,)\n",
            "Data type of array =  float32\n"
          ]
        }
      ],
      "source": [
        "a = np.zeros((10), dtype=np.float32)\n",
        "print(\"a = \", a)                           # Printing the array, a\n",
        "print(\"Shape of array = \", a.shape)        # Printing the shape of array, a \n",
        "print(\"Data type of array = \", a.dtype)    # Printing the data type of array, a"
      ]
    },
    {
      "cell_type": "markdown",
      "id": "4cbdc82d",
      "metadata": {
        "id": "4cbdc82d"
      },
      "source": [
        "### 4. Print the memory size of the array below"
      ]
    },
    {
      "cell_type": "code",
      "execution_count": null,
      "id": "fceb1502",
      "metadata": {
        "colab": {
          "base_uri": "https://localhost:8080/"
        },
        "id": "fceb1502",
        "outputId": "a9db2bfa-f1f2-447c-aee6-292087589905"
      },
      "outputs": [
        {
          "output_type": "stream",
          "name": "stdout",
          "text": [
            "Size of the array:  384\n",
            "The memory size of single array element:  8  bytes\n",
            "\n",
            "\n",
            "The memory size of numpy array : 3072  bytes\n"
          ]
        }
      ],
      "source": [
        "Z = np.zeros((32,12))\n",
        "\n",
        "#Printing the size of the array.\n",
        "print(\"Size of the array: \", Z.size)  \n",
        "\n",
        "# Printing the memory size of single array element. \n",
        "print(\"The memory size of single array element: \", Z.itemsize, \" bytes\")  \n",
        "\n",
        "print(\"\\n\")\n",
        "\n",
        "# Printing the memory size of numpy array in bytes.\n",
        "print(\"The memory size of numpy array :\", Z.size * Z.itemsize, \" bytes\") "
      ]
    },
    {
      "cell_type": "markdown",
      "id": "e38c17ed",
      "metadata": {
        "id": "e38c17ed"
      },
      "source": [
        "### 5. Create a 1D array with values ranging from 10 to 58"
      ]
    },
    {
      "cell_type": "code",
      "execution_count": null,
      "id": "49c55152",
      "metadata": {
        "colab": {
          "base_uri": "https://localhost:8080/"
        },
        "id": "49c55152",
        "outputId": "0f7d1fe8-2012-479d-b268-fd443584b92c"
      },
      "outputs": [
        {
          "output_type": "stream",
          "name": "stdout",
          "text": [
            "x = \n",
            " [10 11 12 13 14 15 16 17 18 19 20 21 22 23 24 25 26 27 28 29 30 31 32 33\n",
            " 34 35 36 37 38 39 40 41 42 43 44 45 46 47 48 49 50 51 52 53 54 55 56 57\n",
            " 58]\n"
          ]
        }
      ],
      "source": [
        "#Creating the 1D array with value ranging from 10 to 58 (both inclusive).\n",
        "x = np.arange(10, 59)\n",
        "\n",
        "print(\"x = \\n\", x)"
      ]
    },
    {
      "cell_type": "markdown",
      "id": "0109df74",
      "metadata": {
        "id": "0109df74"
      },
      "source": [
        "### 6. Reverse the order of the values in the vector (first element becomes last)"
      ]
    },
    {
      "cell_type": "code",
      "execution_count": null,
      "id": "bdc3d5ee",
      "metadata": {
        "colab": {
          "base_uri": "https://localhost:8080/"
        },
        "id": "bdc3d5ee",
        "outputId": "cbd0088c-8118-4e33-95b9-639a4e06e429"
      },
      "outputs": [
        {
          "output_type": "stream",
          "name": "stdout",
          "text": [
            "Original vector =  [0 1 2 3 4 5 6 7 8 9]\n",
            "Reversed vector =  [9 8 7 6 5 4 3 2 1 0]\n"
          ]
        }
      ],
      "source": [
        "# Creating the given vector.\n",
        "a = np.arange(10)\n",
        "print(\"Original vector = \", a)\n",
        "\n",
        "# Reversing the order of the values in the given vector.\n",
        "a = a[::-1]\n",
        "print(\"Reversed vector = \", a)"
      ]
    },
    {
      "cell_type": "markdown",
      "id": "c3988188",
      "metadata": {
        "id": "c3988188"
      },
      "source": [
        "### 7. Create a 3x3 matrix with values ranging from 0 to 8"
      ]
    },
    {
      "cell_type": "code",
      "execution_count": null,
      "id": "cbed338d",
      "metadata": {
        "colab": {
          "base_uri": "https://localhost:8080/"
        },
        "id": "cbed338d",
        "outputId": "e68abd69-673c-48b4-e7ff-e12993e9b753"
      },
      "outputs": [
        {
          "output_type": "stream",
          "name": "stdout",
          "text": [
            "Matrix, a = \n",
            " [[0 1 2]\n",
            " [3 4 5]\n",
            " [6 7 8]]\n",
            "Matrix, b = \n",
            " [[0 1 2]\n",
            " [3 4 5]\n",
            " [6 7 8]]\n"
          ]
        }
      ],
      "source": [
        "# Creating a 1D array with value ranging from 0 to 8.\n",
        "a = np.arange(0,9)\n",
        "\n",
        "# Converting the above array into 3x3 matrix\n",
        "print(\"Matrix, a = \\n\", a.reshape(3,3))\n",
        "\n",
        "# Or executing both the above steps in one code line:\n",
        "print(\"Matrix, b = \\n\", np.arange(0,9).reshape(3,3))"
      ]
    },
    {
      "cell_type": "markdown",
      "id": "4094cd72",
      "metadata": {
        "id": "4094cd72"
      },
      "source": [
        "### 8. Create a 3x3 identity matrix"
      ]
    },
    {
      "cell_type": "code",
      "execution_count": null,
      "id": "6b650e07",
      "metadata": {
        "colab": {
          "base_uri": "https://localhost:8080/"
        },
        "id": "6b650e07",
        "outputId": "b6abbce4-8367-454e-b845-8eb1e5a807de"
      },
      "outputs": [
        {
          "output_type": "stream",
          "name": "stdout",
          "text": [
            "Identity matrix, a = \n",
            " [[1 1 1]\n",
            " [1 1 1]\n",
            " [1 1 1]]\n"
          ]
        }
      ],
      "source": [
        "#Creating a 3x3 identity matrix.\n",
        "a = np.ones((3, 3), dtype=np.int8)       # data type set to integer in order to reduce the memory usage\n",
        "\n",
        "print(\"Identity matrix, a = \\n\", a)"
      ]
    },
    {
      "cell_type": "markdown",
      "id": "2b2b5697",
      "metadata": {
        "id": "2b2b5697"
      },
      "source": [
        "### 9. Find and print the maximum values of each column in the array below"
      ]
    },
    {
      "cell_type": "code",
      "execution_count": null,
      "id": "302deb6d",
      "metadata": {
        "colab": {
          "base_uri": "https://localhost:8080/"
        },
        "id": "302deb6d",
        "outputId": "3cc7e70f-9d47-4416-a808-080ad8cff1af"
      },
      "outputs": [
        {
          "output_type": "stream",
          "name": "stdout",
          "text": [
            "Z = \n",
            " [[0.80329393 0.05855571 0.9873615  0.74267801 0.65971724 0.5569323\n",
            "  0.00902648 0.78530569 0.14502225 0.74919266 0.48067217]\n",
            " [0.7165167  0.45717162 0.82358869 0.82754514 0.05930693 0.71263241\n",
            "  0.24141776 0.12708603 0.30087949 0.69027558 0.10522815]\n",
            " [0.85040711 0.36250421 0.79628676 0.37226868 0.08423854 0.38057378\n",
            "  0.34400904 0.89549917 0.37536239 0.24174783 0.44122053]\n",
            " [0.98464307 0.58653855 0.83668439 0.98550845 0.87482245 0.61124655\n",
            "  0.45819019 0.43192403 0.35264057 0.05029832 0.748309  ]\n",
            " [0.50769119 0.13756639 0.87755237 0.56990897 0.74060223 0.58750852\n",
            "  0.38197148 0.75492911 0.78121732 0.18335052 0.71523184]\n",
            " [0.44987053 0.06772175 0.83269817 0.74342292 0.15182068 0.97834145\n",
            "  0.84643408 0.33506737 0.75436562 0.91158981 0.98306607]\n",
            " [0.79146337 0.58216677 0.10790751 0.71364629 0.3357981  0.8010825\n",
            "  0.8356854  0.84988595 0.63086253 0.94654499 0.14612713]\n",
            " [0.31296905 0.49316163 0.39200391 0.785795   0.15242967 0.09515845\n",
            "  0.93884637 0.35117862 0.15187059 0.50805591 0.23529172]\n",
            " [0.03574756 0.52873612 0.83690716 0.79862662 0.16504867 0.02160394\n",
            "  0.57529547 0.95752651 0.9980498  0.10975017 0.95231702]\n",
            " [0.04805004 0.1727716  0.50626497 0.67294793 0.86137981 0.27338945\n",
            "  0.78038337 0.89972918 0.3485983  0.45313751 0.015566  ]] \n",
            "\n",
            "Maximum value of each column:  [0.98464307 0.58653855 0.9873615  0.98550845 0.87482245 0.97834145\n",
            " 0.93884637 0.95752651 0.9980498  0.94654499 0.98306607] \n",
            "\n",
            "Maximum value of each column (using another method):  [0.98464307 0.58653855 0.9873615  0.98550845 0.87482245 0.97834145\n",
            " 0.93884637 0.95752651 0.9980498  0.94654499 0.98306607]\n"
          ]
        }
      ],
      "source": [
        "# Creating a random array of 10x11.\n",
        "Z = np.random.random((10,11))\n",
        "print(\"Z = \\n\", Z, \"\\n\")\n",
        "\n",
        "# Finding the maximum value of each columns in the array above.\n",
        "print(\"Maximum value of each column: \", Z.max(0), \"\\n\")\n",
        "\n",
        "# OR\n",
        "\n",
        "# Finding the maximum value of each column in the array above.\n",
        "y_max = print(\"Maximum value of each column (using another method): \", np.amax(Z,axis=0))"
      ]
    },
    {
      "cell_type": "markdown",
      "id": "5c6ae16b",
      "metadata": {
        "id": "5c6ae16b"
      },
      "source": [
        "### 10. Create a  7x7 array with 1s on the borders (first row and column, last row and columns) and 0s everywhere else"
      ]
    },
    {
      "cell_type": "code",
      "execution_count": null,
      "id": "6b2202a0",
      "metadata": {
        "colab": {
          "base_uri": "https://localhost:8080/"
        },
        "id": "6b2202a0",
        "outputId": "cca83831-8120-485a-a713-c7056c40125e"
      },
      "outputs": [
        {
          "output_type": "stream",
          "name": "stdout",
          "text": [
            "[[1 1 1 1 1 1 1]\n",
            " [1 0 0 0 0 0 1]\n",
            " [1 0 0 0 0 0 1]\n",
            " [1 0 0 0 0 0 1]\n",
            " [1 0 0 0 0 0 1]\n",
            " [1 0 0 0 0 0 1]\n",
            " [1 1 1 1 1 1 1]]\n"
          ]
        }
      ],
      "source": [
        "# Creating a 7x7 array with 1s everywhere.\n",
        "a = np.ones((7,7), dtype=np.int8)         # keeping the data type as int to reduce memory usage\n",
        "\n",
        "# Assigning the central 6x6 array with value 0. \n",
        "a[1:-1, 1:-1] = 0\n",
        "\n",
        "print(a)"
      ]
    },
    {
      "cell_type": "markdown",
      "id": "d24d51e7",
      "metadata": {
        "id": "d24d51e7"
      },
      "source": [
        "### 11. Pad the existing array below with zeros (i.e., add additional rows and columns with zeros). Use the NumPy pad function."
      ]
    },
    {
      "cell_type": "code",
      "execution_count": null,
      "id": "68763e7e",
      "metadata": {
        "colab": {
          "base_uri": "https://localhost:8080/"
        },
        "id": "68763e7e",
        "outputId": "c74760b3-a01d-427e-8d00-e0b696c7d791"
      },
      "outputs": [
        {
          "output_type": "stream",
          "name": "stdout",
          "text": [
            "[[0. 0. 0. 0. 0. 0. 0.]\n",
            " [0. 1. 1. 1. 1. 1. 0.]\n",
            " [0. 1. 1. 1. 1. 1. 0.]\n",
            " [0. 1. 1. 1. 1. 1. 0.]\n",
            " [0. 1. 1. 1. 1. 1. 0.]\n",
            " [0. 1. 1. 1. 1. 1. 0.]\n",
            " [0. 0. 0. 0. 0. 0. 0.]]\n"
          ]
        }
      ],
      "source": [
        "# Creating the given 5x5 array with 1s everywhere.\n",
        "Z = np.ones((5,5))\n",
        "\n",
        "# Now, using the pad function, adding additional rows and columns with zeros on all the borders.\n",
        "print(np.pad(Z, [(1,1)], mode='constant'))"
      ]
    },
    {
      "cell_type": "markdown",
      "id": "279a1f62",
      "metadata": {
        "id": "279a1f62"
      },
      "source": [
        "### 12. Extract the integer part of the random array of positive numbers below"
      ]
    },
    {
      "cell_type": "code",
      "execution_count": null,
      "id": "893ea6cb",
      "metadata": {
        "colab": {
          "base_uri": "https://localhost:8080/"
        },
        "id": "893ea6cb",
        "outputId": "3a146042-ed34-4b77-9437-442a1ced9dfe"
      },
      "outputs": [
        {
          "output_type": "stream",
          "name": "stdout",
          "text": [
            "Original array :  [7.96736793 7.82975867 4.85856036 8.18950112 2.03641815 6.99181948\n",
            " 9.55685048 3.15484447 3.06355684 6.09042676] \n",
            "\n",
            "Array of Integer :  [7 7 4 8 2 6 9 3 3 6]\n"
          ]
        }
      ],
      "source": [
        "# Creating the random array of positive numbers below\n",
        "Z = np.random.uniform(0,10,10)\n",
        "print(\"Original array : \", Z,\"\\n\")\n",
        "\n",
        "# Converting the array element of above array into the integer values.\n",
        "print(\"Array of Integer : \", Z.astype(int))"
      ]
    },
    {
      "cell_type": "markdown",
      "id": "1690dd69",
      "metadata": {
        "id": "1690dd69"
      },
      "source": [
        "### 13. Create a 5x5 matrix with rows with equal values ranging from 0 to 4 (i.e., [0,1,2,3,4])\n",
        "*Hint:* consider using NumPy broadcasting or the tile function*"
      ]
    },
    {
      "cell_type": "code",
      "execution_count": null,
      "id": "d1f490ab",
      "metadata": {
        "colab": {
          "base_uri": "https://localhost:8080/"
        },
        "id": "d1f490ab",
        "outputId": "0023b9f4-540e-4f70-edaf-b0ee05e22114"
      },
      "outputs": [
        {
          "output_type": "stream",
          "name": "stdout",
          "text": [
            "Matrix using broadcasting function : \n",
            " [[0 1 2 3 4]\n",
            " [0 1 2 3 4]\n",
            " [0 1 2 3 4]\n",
            " [0 1 2 3 4]\n",
            " [0 1 2 3 4]]\n",
            "\n",
            "Matrix using tile function : \n",
            " [[0 1 2 3 4]\n",
            " [0 1 2 3 4]\n",
            " [0 1 2 3 4]\n",
            " [0 1 2 3 4]\n",
            " [0 1 2 3 4]]\n"
          ]
        }
      ],
      "source": [
        "# Creating a 1D array of values ranging from 0 to 4.\n",
        "x = np.array([0, 1, 2, 3, 4])\n",
        "\n",
        "#Converting a given array into 5x5 matrix with rows with equal values ranging from 0 to 4.\n",
        "a = np.broadcast_to(x, (5, 5))\n",
        "print(\"Matrix using broadcasting function : \\n\", a)\n",
        "\n",
        "#Converting a given array into 5x5 matrix with rows with equal values ranging from 0 to 4.\n",
        "c = np.tile(x,(5,1))\n",
        "print(\"\\nMatrix using tile function : \\n\", c)"
      ]
    },
    {
      "cell_type": "markdown",
      "id": "6c7075a6",
      "metadata": {
        "id": "6c7075a6"
      },
      "source": [
        "### 14. Create a vector of size 10 with values ranging from 0 to 1 (0 and 1 not included)\n",
        "*Hint: Consider using the linspace function*"
      ]
    },
    {
      "cell_type": "code",
      "execution_count": null,
      "id": "af3cf4b3",
      "metadata": {
        "colab": {
          "base_uri": "https://localhost:8080/"
        },
        "id": "af3cf4b3",
        "outputId": "1b0fd046-bbf1-4d3f-cef7-6bdaac5364d6"
      },
      "outputs": [
        {
          "output_type": "stream",
          "name": "stdout",
          "text": [
            "[0.09090909 0.18181818 0.27272727 0.36363636 0.45454545 0.54545455\n",
            " 0.63636364 0.72727273 0.81818182 0.90909091] \n",
            "Another way:\n",
            " [0.09090909 0.18181818 0.27272727 0.36363636 0.45454545 0.54545455\n",
            " 0.63636364 0.72727273 0.81818182 0.90909091]\n"
          ]
        }
      ],
      "source": [
        "# Creating a vector of size 12 with values from 0 to 1 using linspace;\n",
        "# then slicing off 0 and 1 to finally achieve the vector of size 10.\n",
        "a = np.linspace(0,1,12)[1:-1]\n",
        "\n",
        "print(a, \"\\nAnother way:\\n\", np.linspace(0, 1, 11, endpoint=0)[1:])\n",
        "# Another way excludes the stop point in linspace, so array of size 11 created\n",
        "# then slicing off the unwanted starting element i.e. 0"
      ]
    },
    {
      "cell_type": "markdown",
      "id": "d2b0b57a",
      "metadata": {
        "id": "d2b0b57a"
      },
      "source": [
        "### 15. Create a random vector of size 10 and sort it"
      ]
    },
    {
      "cell_type": "code",
      "execution_count": null,
      "id": "3a99f476",
      "metadata": {
        "colab": {
          "base_uri": "https://localhost:8080/"
        },
        "id": "3a99f476",
        "outputId": "0f4d4a28-a8ab-4e27-cf34-073f094dd0e3"
      },
      "outputs": [
        {
          "output_type": "stream",
          "name": "stdout",
          "text": [
            "Original array:  [38 30 33 13 18 95 51 86 23 65] \n",
            "\n",
            "Sorted array:  [13 18 23 30 33 38 51 65 86 95]\n"
          ]
        }
      ],
      "source": [
        "#Creating a random vector of size 10.\n",
        "x = np.random.randint(0,100,10)\n",
        "print(\"Original array: \", x, \"\\n\")\n",
        "\n",
        "#Sorting the above array in assending order.\n",
        "x.sort()\n",
        "print(\"Sorted array: \", x)"
      ]
    },
    {
      "cell_type": "markdown",
      "id": "1c663163",
      "metadata": {
        "id": "1c663163"
      },
      "source": [
        "### 16. Consider the cartesian coordinates below (X and Y), convert them to polar coordinates (R and T)"
      ]
    },
    {
      "cell_type": "code",
      "execution_count": null,
      "id": "ef29d319",
      "metadata": {
        "colab": {
          "base_uri": "https://localhost:8080/"
        },
        "id": "ef29d319",
        "outputId": "6b6e51e2-f209-40be-eaad-ce5d6066c01a"
      },
      "outputs": [
        {
          "output_type": "stream",
          "name": "stdout",
          "text": [
            "Cartesian coordinates: \n",
            "X =  [0.91898293 0.96450806 0.23914942 0.27891571 0.12188595 0.64960357\n",
            " 0.60046604 0.87497019 0.95740526 0.50081649] \n",
            "Y =  [0.41553556 0.06323009 0.33405914 0.82843267 0.16341309 0.97348593\n",
            " 0.12867162 0.17791861 0.09358693 0.098877  ] \n",
            "\n",
            "Polar Coordinates: \n",
            "R =  [1.00856305 0.96657842 0.41083811 0.87412509 0.20386275 1.1703246\n",
            " 0.61409759 0.89287618 0.96196848 0.5104839 ] \n",
            "T =  [0.42465617 0.06546316 0.94948569 1.24603789 0.92993962 0.98235794\n",
            " 0.21109385 0.20060741 0.09744102 0.19492472]\n"
          ]
        }
      ],
      "source": [
        "#Creating a random variable of 10x2 matrix.\n",
        "Z = np.random.random((10,2))\n",
        "X,Y = Z[:,0], Z[:,1]  #Saperating X and Y coordinates from 10x2 matrix.\n",
        "\n",
        "#Converting X and Y cartesian coordinates into the polar coordinates (R and T).\n",
        "R = np.sqrt(X**2 + Y**2)\n",
        "T = np.arctan2(Y, X)\n",
        "\n",
        "print(\"Cartesian coordinates: \\nX = \", X,\"\\nY = \", Y, \"\\n\\nPolar Coordinates: \\nR = \", R, \"\\nT = \", T)"
      ]
    },
    {
      "cell_type": "markdown",
      "id": "5ab97d79",
      "metadata": {
        "id": "5ab97d79"
      },
      "source": [
        "### 17. Create random vector of size 10 and replace the maximum value by 0"
      ]
    },
    {
      "cell_type": "code",
      "execution_count": null,
      "id": "8cf5d67e",
      "metadata": {
        "colab": {
          "base_uri": "https://localhost:8080/"
        },
        "id": "8cf5d67e",
        "outputId": "97e4cfdc-832c-4c61-cccd-fcd61cf15255"
      },
      "outputs": [
        {
          "output_type": "stream",
          "name": "stdout",
          "text": [
            "Original Vector:  [0.61706251 0.33619774 0.28331065 0.42487167 0.34865257 0.67130463\n",
            " 0.08603954 0.89935618 0.6936005  0.53945213]\n",
            "\n",
            " Position of max value in a given vector 7\n",
            "\n",
            " New Vector:  [0.61706251 0.33619774 0.28331065 0.42487167 0.34865257 0.67130463\n",
            " 0.08603954 0.         0.6936005  0.53945213]\n"
          ]
        }
      ],
      "source": [
        "#Create random vector of size 10.\n",
        "Z = np.random.random((10))\n",
        "print(\"Original Vector: \", Z)\n",
        "\n",
        "#Finding the index of max value in a given vector.\n",
        "position = Z.argmax()\n",
        "\n",
        "#Printing the position of max value in a given vector.\n",
        "print(\"\\n\", \"Position of max value in a given vector\", position)\n",
        "\n",
        "#Replacing the max value by zero in a given vector.\n",
        "Z[position] = 0\n",
        "\n",
        "print(\"\\n\", \"New Vector: \", Z)"
      ]
    },
    {
      "cell_type": "markdown",
      "id": "e9794cea",
      "metadata": {
        "id": "e9794cea"
      },
      "source": [
        "### 18. Find the nearest value from a given value (z) in an array (Z)"
      ]
    },
    {
      "cell_type": "code",
      "execution_count": null,
      "id": "fd6d1db8",
      "metadata": {
        "colab": {
          "base_uri": "https://localhost:8080/"
        },
        "id": "fd6d1db8",
        "outputId": "aaf26dfd-6947-4345-b981-22506f114e75"
      },
      "outputs": [
        {
          "output_type": "stream",
          "name": "stdout",
          "text": [
            "Array Z =  [0.69413667 0.56508049 0.75789357 0.95282103 0.38383828 0.97175375\n",
            " 0.54261783 0.28072682 0.23314081 0.83680017] \n",
            "Entry closest to  0.5  :  0.5426178348216327\n"
          ]
        }
      ],
      "source": [
        "# Creating random uniform vector.\n",
        "Z = np.random.uniform(0,1,10)\n",
        "z = 0.5\n",
        "\n",
        "# Finding the absolute difference between the each element of Z array and the value of z.\n",
        "X = np.abs(Z-z)\n",
        "\n",
        "# Finding the smallest value in X array and printing the same indexed value from Z array.\n",
        "print(\"Array Z = \", Z, \"\\nEntry closest to \",z,\" : \" , Z[X.argmin()])"
      ]
    },
    {
      "cell_type": "markdown",
      "id": "fa7977ee",
      "metadata": {
        "id": "fa7977ee"
      },
      "source": [
        "### 19. Consider the vector [5, 4, 3, 2, 1], how to build a new vector with 3 consecutive zeros interleaved between each value?"
      ]
    },
    {
      "cell_type": "code",
      "execution_count": null,
      "id": "311c6fce",
      "metadata": {
        "colab": {
          "base_uri": "https://localhost:8080/"
        },
        "id": "311c6fce",
        "outputId": "d767af12-8190-49c5-87c5-ca1d44427d31"
      },
      "outputs": [
        {
          "output_type": "stream",
          "name": "stdout",
          "text": [
            "Original vector:  [5 4 3 2 1] \n",
            "Required vector:  [5 0 0 0 4 0 0 0 3 0 0 0 2 0 0 0 1]\n"
          ]
        }
      ],
      "source": [
        "# Creating the vector as given in the question.\n",
        "Z = np.arange(6)[:0:-1]\n",
        "\n",
        "# Creating a total 12 number of zeros element in 1D array.\n",
        "X = np.zeros(len(Z) + 3*(len(Z)-1), dtype=np.int8)\n",
        "\n",
        "# Merging the above two arrays as required in the question.\n",
        "X[:: 4] = Z\n",
        "print(\"Original vector: \", Z, \"\\nRequired vector: \", X)"
      ]
    },
    {
      "cell_type": "markdown",
      "id": "3c550f53",
      "metadata": {
        "id": "3c550f53"
      },
      "source": [
        "### 20. Consider an array of dimension (5,5,3), how to mulitply it element-wise by an array with dimensions (5,5) - i.e., (5,5,0)(5,5), (5,5,1)(5,5), (5,5,2)(5,5)"
      ]
    },
    {
      "cell_type": "code",
      "execution_count": null,
      "id": "080fa0dc",
      "metadata": {
        "id": "080fa0dc",
        "outputId": "c73c0d32-aa25-4240-8e0d-f5d4b580523f"
      },
      "outputs": [
        {
          "name": "stdout",
          "output_type": "stream",
          "text": [
            "[[[2. 2. 2.]\n",
            "  [2. 2. 2.]\n",
            "  [2. 2. 2.]\n",
            "  [2. 2. 2.]\n",
            "  [2. 2. 2.]]\n",
            "\n",
            " [[2. 2. 2.]\n",
            "  [2. 2. 2.]\n",
            "  [2. 2. 2.]\n",
            "  [2. 2. 2.]\n",
            "  [2. 2. 2.]]\n",
            "\n",
            " [[2. 2. 2.]\n",
            "  [2. 2. 2.]\n",
            "  [2. 2. 2.]\n",
            "  [2. 2. 2.]\n",
            "  [2. 2. 2.]]\n",
            "\n",
            " [[2. 2. 2.]\n",
            "  [2. 2. 2.]\n",
            "  [2. 2. 2.]\n",
            "  [2. 2. 2.]\n",
            "  [2. 2. 2.]]\n",
            "\n",
            " [[2. 2. 2.]\n",
            "  [2. 2. 2.]\n",
            "  [2. 2. 2.]\n",
            "  [2. 2. 2.]\n",
            "  [2. 2. 2.]]]\n"
          ]
        }
      ],
      "source": [
        "#Creating a array of (5,5,3) 1s matrix.\n",
        "A = np.ones((5,5,3))\n",
        "\n",
        "#Creating a array of (5,5) 2s matrix.\n",
        "B = 2*np.ones((5,5))\n",
        "\n",
        "#Converting it into 5*5*1 matrix\n",
        "C = B[:,:,None]  \n",
        "\n",
        "print(A*C)\n"
      ]
    },
    {
      "cell_type": "markdown",
      "id": "c6f22747",
      "metadata": {
        "id": "c6f22747"
      },
      "source": [
        "### 21. Swap the first and second rows of the 2D array below"
      ]
    },
    {
      "cell_type": "code",
      "execution_count": null,
      "id": "4870dbb9",
      "metadata": {
        "id": "4870dbb9",
        "outputId": "48ad5f45-192b-4f01-d589-e804e5a994b8"
      },
      "outputs": [
        {
          "name": "stdout",
          "output_type": "stream",
          "text": [
            "Original array: \n",
            " [[ 0  1  2  3  4]\n",
            " [ 5  6  7  8  9]\n",
            " [10 11 12 13 14]\n",
            " [15 16 17 18 19]\n",
            " [20 21 22 23 24]\n",
            " [25 26 27 28 29]]\n",
            "\n",
            " New array: \n",
            " [[ 5  6  7  8  9]\n",
            " [ 0  1  2  3  4]\n",
            " [10 11 12 13 14]\n",
            " [15 16 17 18 19]\n",
            " [20 21 22 23 24]\n",
            " [25 26 27 28 29]]\n"
          ]
        }
      ],
      "source": [
        "#Creating a 65 matrix.\n",
        "W = np.arange(30).reshape(6,5)\n",
        "print(\"Original array: \\n\", W)\n",
        "\n",
        "#Swapping the first and second row with eachother.\n",
        "W[[0,1]] = W[[1,0]]\n",
        "print(\"\\n\", \"New array: \\n\", W)"
      ]
    },
    {
      "cell_type": "markdown",
      "id": "b30b00b5",
      "metadata": {
        "id": "b30b00b5"
      },
      "source": [
        "### 22. Write a function that receives as input a 2D Boolean NumPy array and outputs the coordinates of the minimal bounding-box that encloses all non-zero elements in the input array"
      ]
    },
    {
      "cell_type": "code",
      "execution_count": null,
      "id": "2d93e265",
      "metadata": {
        "id": "2d93e265",
        "outputId": "2740f55a-b4ac-4171-c93f-c3be2bcf586a"
      },
      "outputs": [
        {
          "name": "stdout",
          "output_type": "stream",
          "text": [
            "((29, 50), (342, 431))\n"
          ]
        },
        {
          "data": {
            "image/png": "[encoded data removed]",
            "text/plain": [
              "<Figure size 432x288 with 1 Axes>"
            ]
          },
          "metadata": {
            "needs_background": "light"
          },
          "output_type": "display_data"
        }
      ],
      "source": [
        "#Define a fuunctio for finding the coordinates of the minimal bounding-box that encloses all non-zero elements in the input array\n",
        "def bbox(img):\n",
        "    a = np.argwhere(img)    # Creating a matrix(72825x2) having true boolean value\n",
        "    \n",
        "    r1 = np.amin(a[:,0:1])  #From the above matrix, extracting top left coordinates\n",
        "    c1 = np.amin(a[:,1:])   #From the above matrix, extracting top left coordinates\n",
        "    r2 = np.amax(a[:,0:1])  #From the above matrix, extracting bottom Right coordinates\n",
        "    c2 = np.amax(a[:,1:])   #From the above matrix, extracting bottom Right coordinates\n",
        "    \n",
        "    return (r1,c1),(r2,c2)\n",
        "\n",
        "\n",
        "from PIL import Image\n",
        "\n",
        "img = np.array(Image.open('bin_image.png').convert('L')) > 0  #Downloaded the image and opened from local path\n",
        "print(bbox(img))\n",
        "\n",
        "#Ploting the cropped image just for reference.\n",
        "plt.imshow(img[29:342, 50:431])\n",
        "plt.show()"
      ]
    },
    {
      "cell_type": "markdown",
      "id": "a8e5802e",
      "metadata": {
        "id": "a8e5802e"
      },
      "source": [
        "### 23.Write a function to compute the average over a sliding window of length N over a 1D array?\n",
        "*Example:* [1,2,3,4,5,6,7,8,9], N = 3 -> [2,5,8]"
      ]
    },
    {
      "cell_type": "code",
      "execution_count": 64,
      "id": "b4a0e0b8",
      "metadata": {
        "id": "b4a0e0b8",
        "outputId": "aa29695f-17ee-4302-da1c-f91b8517459e",
        "colab": {
          "base_uri": "https://localhost:8080/"
        }
      },
      "outputs": [
        {
          "output_type": "stream",
          "name": "stdout",
          "text": [
            "[ 1.  4.  7. 10. 13. 16. 19. 22. 25. 28.]\n"
          ]
        }
      ],
      "source": [
        "# Define a function to compute the average over a sliding window of length N over a 1D array.\n",
        "def moving_average(x,N = 3):\n",
        "    ret = np.cumsum(x, dtype=float)   # Calculate the cumulative sum array of given array.\n",
        "    ret[N:] = ret[N:] - ret[:-N]\n",
        "    a = ret[N - 1:] / N\n",
        "    return a[0::N]\n",
        "\n",
        "a = np.arange(30)\n",
        "N = 3\n",
        "print(moving_average(a,N))"
      ]
    },
    {
      "cell_type": "markdown",
      "id": "cb4bcd65",
      "metadata": {
        "id": "cb4bcd65"
      },
      "source": [
        "### 24. Given a sorted 1D array C that corresponds to a bincount, how to produce an array A such that np.bincount(A) == C?\n",
        "*Example:* C = [3,2,4] -> D = [0,0,0,1,1,2,2,2,2]\n",
        "\n",
        "*Tip:* Consider using the NumPy repeat function"
      ]
    },
    {
      "cell_type": "code",
      "execution_count": 68,
      "id": "6fb571e3",
      "metadata": {
        "id": "6fb571e3",
        "outputId": "3a633672-358e-44a8-e1af-b5b6b2b2f461",
        "colab": {
          "base_uri": "https://localhost:8080/"
        }
      },
      "outputs": [
        {
          "output_type": "stream",
          "name": "stdout",
          "text": [
            "C =  [0 2 1 1 2 0 1] -> A =  [1 1 2 3 4 4 6]\n"
          ]
        }
      ],
      "source": [
        "C = np.bincount([1,1,2,3,4,4,6])\n",
        "\n",
        "A = np.repeat(np.arange(len(C)), C)\n",
        "print(\"C = \", C, \"-> A = \", A)"
      ]
    },
    {
      "cell_type": "markdown",
      "id": "a880f0c1",
      "metadata": {
        "id": "a880f0c1"
      },
      "source": [
        "### 25. Find the most frequent value in the array below?"
      ]
    },
    {
      "cell_type": "code",
      "execution_count": 71,
      "id": "65059b0d",
      "metadata": {
        "id": "65059b0d",
        "outputId": "fb27bf88-101b-42b5-c55b-84b49448cb77",
        "colab": {
          "base_uri": "https://localhost:8080/"
        }
      },
      "outputs": [
        {
          "output_type": "stream",
          "name": "stdout",
          "text": [
            "Z =  [0 4 2 5 5 8 2 9 0 8 7 4 2 3 0 6 2 0 4 2 4 9 5 8 8 3 8 9 6 9 4 8 2 6 0 9 3\n",
            " 1 3 9 6 7 3 1 5 1 0 4 1 9]\n",
            "Most frequent value in the array: 9\n"
          ]
        }
      ],
      "source": [
        "# Creating a random integer array\n",
        "Z = np.random.randint(0,10,50)\n",
        "print(\"Z = \", Z)\n",
        "print('Most frequent value in the array:', np.bincount(Z).argmax())\n",
        "# counted the number of occurance of each element of the array using bincount\n",
        "# and found the maximum of that using argmax"
      ]
    },
    {
      "cell_type": "markdown",
      "id": "92d7026c",
      "metadata": {
        "id": "92d7026c"
      },
      "source": [
        "### 26. Write a function to return the n largest values of an array"
      ]
    },
    {
      "cell_type": "code",
      "execution_count": 74,
      "id": "985ea7ca",
      "metadata": {
        "id": "985ea7ca",
        "outputId": "1d8e56b4-4727-47d8-9007-e12c2625f0f8",
        "colab": {
          "base_uri": "https://localhost:8080/"
        }
      },
      "outputs": [
        {
          "output_type": "stream",
          "name": "stdout",
          "text": [
            "The largest 5 values of an array are: [9999 9998 9997 9996 9995]\n"
          ]
        }
      ],
      "source": [
        "# Define the function to fine the n largest values of an array\n",
        "def nlargest(a,n = 5):\n",
        "    d = np.sort(a)       # sorting the array in ascending order\n",
        "    d = d[::-1]          # inversing the sorted array i.e. array sorted in descending order\n",
        "    return d[0:n]        # return the n largest values\n",
        "\n",
        "Z = np.arange(10000)\n",
        "np.random.shuffle(Z)\n",
        "n = 5\n",
        "print(\"The largest\", n, \"values of an array are:\", nlargest(Z,n))  "
      ]
    },
    {
      "cell_type": "code",
      "execution_count": null,
      "id": "a16ad4df",
      "metadata": {
        "id": "a16ad4df"
      },
      "outputs": [],
      "source": [
        ""
      ]
    }
  ],
  "metadata": {
    "kernelspec": {
      "display_name": "Python 3 (ipykernel)",
      "language": "python",
      "name": "python3"
    },
    "language_info": {
      "codemirror_mode": {
        "name": "ipython",
        "version": 3
      },
      "file_extension": ".py",
      "mimetype": "text/x-python",
      "name": "python",
      "nbconvert_exporter": "python",
      "pygments_lexer": "ipython3",
      "version": "3.9.7"
    },
    "colab": {
      "name": "Assignment_1.ipynb",
      "provenance": [],
      "include_colab_link": true
    }
  },
  "nbformat": 4,
  "nbformat_minor": 5
}