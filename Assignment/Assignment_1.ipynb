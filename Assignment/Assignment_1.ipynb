{
  "cells": [
    {
      "cell_type": "markdown",
      "metadata": {
        "id": "view-in-github",
        "colab_type": "text"
      },
      "source": [
        "<a href=\"https://colab.research.google.com/github/mananpatel126/Teamwork/blob/main/Assignment/Assignment_1.ipynb\" target=\"_parent\"><img src=\"https://colab.research.google.com/assets/colab-badge.svg\" alt=\"Open In Colab\"/></a>"
      ]
    },
    {
      "cell_type": "markdown",
      "id": "8f7a89f8",
      "metadata": {
        "id": "8f7a89f8"
      },
      "source": [
        "<br>\n",
        "<div align=\"Center\"><font face=\"Calibri\" size=\"40px\" color=\"#000000\"><strong>ASSIGNMENT #01</strong></font></div>\n",
        "<br>\n",
        "<div align=\"Center\"><font face=\"Calibri\" size=\"28px\" color=\"#000000\"><strong>Python-Numpy-Programming</strong></font></div>\n",
        "<br>\n",
        "<div align=\"Center\"><font size=\"8\" face=\"Calibri\" size=\"14px\" color=\"#000000\"><strong>ENEL:- 645 Data Mining and Machine learning</strong> </font></div>\n",
        "    \n"
      ]
    },
    {
      "cell_type": "markdown",
      "id": "40c66a92",
      "metadata": {
        "id": "40c66a92"
      },
      "source": [
        "<br>\n",
        "<div align=\"Left\"><font size=\"6\" face=\"Calibri\" size=\"14px\" color=\"#000000\">Manan Patel : 30126849</font></div>\n",
        "<div align=\"Left\"><font size=\"6\" face=\"Calibri\" size=\"14px\" color=\"#000000\">Vishal Patel : 30126128</font></div>\n",
        "<div align=\"Left\"><font size=\"6\" face=\"Calibri\" size=\"14px\" color=\"#000000\">Dishank Bhavsar : 30136156</font></div>\n",
        "<div align=\"Left\"><font size=\"6\" face=\"Calibri\" size=\"14px\" color=\"#000000\">Karnav Joshi : 30126641</font></div>\n",
        "<div align=\"Left\"><font size=\"6\" face=\"Calibri\" size=\"14px\" color=\"#000000\">Romil Patel : 30129768</font></div>\n",
        "<div align=\"Left\"><font size=\"6\" face=\"Calibri\" size=\"14px\" color=\"#000000\">Jay Patel : 30110511</font></div>\n",
        "<br>\n"
      ]
    },
    {
      "cell_type": "code",
      "execution_count": 1,
      "id": "534dc6b7",
      "metadata": {
        "id": "534dc6b7"
      },
      "outputs": [],
      "source": [
        "import matplotlib.pylab as plt"
      ]
    },
    {
      "cell_type": "markdown",
      "id": "36fb5296",
      "metadata": {
        "id": "36fb5296"
      },
      "source": [
        "### 1. Import the numpy package under the name np"
      ]
    },
    {
      "cell_type": "code",
      "source": [
        "import numpy as np        # importing the numpy package"
      ],
      "metadata": {
        "id": "L58s7U4g_gKH"
      },
      "id": "L58s7U4g_gKH",
      "execution_count": 2,
      "outputs": []
    },
    {
      "cell_type": "markdown",
      "id": "f20af175",
      "metadata": {
        "id": "f20af175"
      },
      "source": [
        "### 2. Print the numpy version and the configuration"
      ]
    },
    {
      "cell_type": "code",
      "execution_count": 3,
      "id": "ce84f572",
      "metadata": {
        "colab": {
          "base_uri": "https://localhost:8080/"
        },
        "id": "ce84f572",
        "outputId": "131836ab-b422-49c3-b7cd-93c01408fb53"
      },
      "outputs": [
        {
          "output_type": "stream",
          "name": "stdout",
          "text": [
            "1.19.5\n"
          ]
        }
      ],
      "source": [
        "print(np.__version__)     # printing the version of numpy"
      ]
    },
    {
      "cell_type": "code",
      "execution_count": 4,
      "id": "2c3e9c9d",
      "metadata": {
        "colab": {
          "base_uri": "https://localhost:8080/"
        },
        "id": "2c3e9c9d",
        "outputId": "8c4ee9cc-07fe-467d-dee2-50c641eab28e"
      },
      "outputs": [
        {
          "output_type": "stream",
          "name": "stdout",
          "text": [
            "blas_mkl_info:\n",
            "  NOT AVAILABLE\n",
            "blis_info:\n",
            "  NOT AVAILABLE\n",
            "openblas_info:\n",
            "    libraries = ['openblas', 'openblas']\n",
            "    library_dirs = ['/usr/local/lib']\n",
            "    language = c\n",
            "    define_macros = [('HAVE_CBLAS', None)]\n",
            "blas_opt_info:\n",
            "    libraries = ['openblas', 'openblas']\n",
            "    library_dirs = ['/usr/local/lib']\n",
            "    language = c\n",
            "    define_macros = [('HAVE_CBLAS', None)]\n",
            "lapack_mkl_info:\n",
            "  NOT AVAILABLE\n",
            "openblas_lapack_info:\n",
            "    libraries = ['openblas', 'openblas']\n",
            "    library_dirs = ['/usr/local/lib']\n",
            "    language = c\n",
            "    define_macros = [('HAVE_CBLAS', None)]\n",
            "lapack_opt_info:\n",
            "    libraries = ['openblas', 'openblas']\n",
            "    library_dirs = ['/usr/local/lib']\n",
            "    language = c\n",
            "    define_macros = [('HAVE_CBLAS', None)]\n",
            "None\n"
          ]
        }
      ],
      "source": [
        "print(np.show_config())   # printing the configuration of numpy"
      ]
    },
    {
      "cell_type": "markdown",
      "id": "2619ee08",
      "metadata": {
        "id": "2619ee08"
      },
      "source": [
        "### 3. Create a 1D array of zeros of size 10 of type float32\n",
        "\n"
      ]
    },
    {
      "cell_type": "code",
      "execution_count": 5,
      "id": "3e18051b",
      "metadata": {
        "colab": {
          "base_uri": "https://localhost:8080/"
        },
        "id": "3e18051b",
        "outputId": "cdb788e8-4f86-432f-f512-b37ffcd8c660"
      },
      "outputs": [
        {
          "output_type": "stream",
          "name": "stdout",
          "text": [
            "a =  [0. 0. 0. 0. 0. 0. 0. 0. 0. 0.]\n",
            "Shape of array =  (10,)\n",
            "Data type of array =  float32\n"
          ]
        }
      ],
      "source": [
        "a = np.zeros((10), dtype=np.float32)\n",
        "print(\"a = \", a)                           # Printing the array, a\n",
        "print(\"Shape of array = \", a.shape)        # Printing the shape of array, a \n",
        "print(\"Data type of array = \", a.dtype)    # Printing the data type of array, a"
      ]
    },
    {
      "cell_type": "markdown",
      "id": "4cbdc82d",
      "metadata": {
        "id": "4cbdc82d"
      },
      "source": [
        "### 4. Print the memory size of the array below"
      ]
    },
    {
      "cell_type": "code",
      "execution_count": 6,
      "id": "fceb1502",
      "metadata": {
        "colab": {
          "base_uri": "https://localhost:8080/"
        },
        "id": "fceb1502",
        "outputId": "935ca98e-9777-41e5-ab3c-6de2f91d0531"
      },
      "outputs": [
        {
          "output_type": "stream",
          "name": "stdout",
          "text": [
            "Size of the array:  384\n",
            "The memory size of single array element:  8  bytes\n",
            "\n",
            "\n",
            "The memory size of numpy array : 3072  bytes\n"
          ]
        }
      ],
      "source": [
        "Z = np.zeros((32,12))\n",
        "\n",
        "#Printing the size of the array.\n",
        "print(\"Size of the array: \", Z.size)  \n",
        "\n",
        "# Printing the memory size of single array element. \n",
        "print(\"The memory size of single array element: \", Z.itemsize, \" bytes\")  \n",
        "\n",
        "print(\"\\n\")\n",
        "\n",
        "# Printing the memory size of numpy array in bytes.\n",
        "print(\"The memory size of numpy array :\", Z.size * Z.itemsize, \" bytes\") "
      ]
    },
    {
      "cell_type": "markdown",
      "id": "e38c17ed",
      "metadata": {
        "id": "e38c17ed"
      },
      "source": [
        "### 5. Create a 1D array with values ranging from 10 to 58"
      ]
    },
    {
      "cell_type": "code",
      "execution_count": 7,
      "id": "49c55152",
      "metadata": {
        "colab": {
          "base_uri": "https://localhost:8080/"
        },
        "id": "49c55152",
        "outputId": "612c8acc-b967-4fa2-917b-8963453bef96"
      },
      "outputs": [
        {
          "output_type": "stream",
          "name": "stdout",
          "text": [
            "x = \n",
            " [10 11 12 13 14 15 16 17 18 19 20 21 22 23 24 25 26 27 28 29 30 31 32 33\n",
            " 34 35 36 37 38 39 40 41 42 43 44 45 46 47 48 49 50 51 52 53 54 55 56 57\n",
            " 58]\n"
          ]
        }
      ],
      "source": [
        "#Creating the 1D array with value ranging from 10 to 58 (both inclusive).\n",
        "x = np.arange(10, 59)\n",
        "\n",
        "print(\"x = \\n\", x)"
      ]
    },
    {
      "cell_type": "markdown",
      "id": "0109df74",
      "metadata": {
        "id": "0109df74"
      },
      "source": [
        "### 6. Reverse the order of the values in the vector (first element becomes last)"
      ]
    },
    {
      "cell_type": "code",
      "execution_count": 8,
      "id": "bdc3d5ee",
      "metadata": {
        "colab": {
          "base_uri": "https://localhost:8080/"
        },
        "id": "bdc3d5ee",
        "outputId": "0bd6788d-7899-49dc-aade-df8cc36feada"
      },
      "outputs": [
        {
          "output_type": "stream",
          "name": "stdout",
          "text": [
            "Original vector =  [0 1 2 3 4 5 6 7 8 9]\n",
            "Reversed vector =  [9 8 7 6 5 4 3 2 1 0]\n"
          ]
        }
      ],
      "source": [
        "# Creating the given vector.\n",
        "a = np.arange(10)\n",
        "print(\"Original vector = \", a)\n",
        "\n",
        "# Reversing the order of the values in the given vector.\n",
        "a = a[::-1]\n",
        "print(\"Reversed vector = \", a)"
      ]
    },
    {
      "cell_type": "markdown",
      "id": "c3988188",
      "metadata": {
        "id": "c3988188"
      },
      "source": [
        "### 7. Create a 3x3 matrix with values ranging from 0 to 8"
      ]
    },
    {
      "cell_type": "code",
      "execution_count": 9,
      "id": "cbed338d",
      "metadata": {
        "colab": {
          "base_uri": "https://localhost:8080/"
        },
        "id": "cbed338d",
        "outputId": "c01c9800-08ae-48bf-9a76-d5db056d1002"
      },
      "outputs": [
        {
          "output_type": "stream",
          "name": "stdout",
          "text": [
            "Matrix, a = \n",
            " [[0 1 2]\n",
            " [3 4 5]\n",
            " [6 7 8]]\n",
            "Matrix, b = \n",
            " [[0 1 2]\n",
            " [3 4 5]\n",
            " [6 7 8]]\n"
          ]
        }
      ],
      "source": [
        "# Creating a 1D array with value ranging from 0 to 8.\n",
        "a = np.arange(0,9)\n",
        "\n",
        "# Converting the above array into 3x3 matrix\n",
        "print(\"Matrix, a = \\n\", a.reshape(3,3))\n",
        "\n",
        "# Or executing both the above steps in one code line:\n",
        "print(\"Matrix, b = \\n\", np.arange(0,9).reshape(3,3))"
      ]
    },
    {
      "cell_type": "markdown",
      "id": "4094cd72",
      "metadata": {
        "id": "4094cd72"
      },
      "source": [
        "### 8. Create a 3x3 identity matrix"
      ]
    },
    {
      "cell_type": "code",
      "execution_count": 10,
      "id": "6b650e07",
      "metadata": {
        "colab": {
          "base_uri": "https://localhost:8080/"
        },
        "id": "6b650e07",
        "outputId": "5ad2e2f2-206e-41e0-a694-14e2e9eff36b"
      },
      "outputs": [
        {
          "output_type": "stream",
          "name": "stdout",
          "text": [
            "Identity matrix, a = \n",
            " [[1 1 1]\n",
            " [1 1 1]\n",
            " [1 1 1]]\n"
          ]
        }
      ],
      "source": [
        "#Creating a 3x3 identity matrix.\n",
        "a = np.ones((3, 3), dtype=np.int8)       # data type set to integer in order to reduce the memory usage\n",
        "\n",
        "print(\"Identity matrix, a = \\n\", a)"
      ]
    },
    {
      "cell_type": "markdown",
      "id": "2b2b5697",
      "metadata": {
        "id": "2b2b5697"
      },
      "source": [
        "### 9. Find and print the maximum values of each column in the array below"
      ]
    },
    {
      "cell_type": "code",
      "execution_count": 11,
      "id": "302deb6d",
      "metadata": {
        "colab": {
          "base_uri": "https://localhost:8080/"
        },
        "id": "302deb6d",
        "outputId": "fb709959-dc77-4bb4-fb8f-2c55890d498e"
      },
      "outputs": [
        {
          "output_type": "stream",
          "name": "stdout",
          "text": [
            "Z = \n",
            " [[0.89036992 0.9794124  0.44869261 0.15523591 0.25067771 0.14448429\n",
            "  0.46857114 0.63094642 0.50522705 0.45800576 0.3147966 ]\n",
            " [0.15367566 0.24683423 0.03307013 0.2594103  0.37599885 0.77796887\n",
            "  0.90098816 0.79871763 0.12685744 0.56689013 0.07659342]\n",
            " [0.43729061 0.2969399  0.82023258 0.83299135 0.74577953 0.5449323\n",
            "  0.85563598 0.40237692 0.3552302  0.07986648 0.76146105]\n",
            " [0.64788498 0.69120796 0.56030997 0.78806399 0.77326504 0.29263957\n",
            "  0.02451969 0.78538825 0.18144672 0.50053813 0.58390495]\n",
            " [0.18868382 0.98926964 0.34687452 0.56451175 0.79774103 0.6501074\n",
            "  0.3852636  0.01401354 0.11038379 0.78873957 0.31395758]\n",
            " [0.75528634 0.9984178  0.51533595 0.42259244 0.48968707 0.83509997\n",
            "  0.71453422 0.63317577 0.73916233 0.80688033 0.23640452]\n",
            " [0.78336639 0.55408565 0.79589943 0.37341556 0.6660585  0.66981548\n",
            "  0.83806389 0.96797017 0.6253323  0.25052906 0.91505618]\n",
            " [0.72852659 0.51649184 0.70781252 0.10483177 0.8307489  0.22948908\n",
            "  0.83740598 0.71034514 0.67983395 0.67876135 0.23848825]\n",
            " [0.53721944 0.99439359 0.02270488 0.23105814 0.22020462 0.55439532\n",
            "  0.99241401 0.56482246 0.22970346 0.98838178 0.56757556]\n",
            " [0.4535852  0.96842504 0.14498645 0.4819491  0.56695477 0.90318306\n",
            "  0.69773057 0.13046375 0.07812022 0.49853138 0.01666856]] \n",
            "\n",
            "Maximum value of each column:  [0.89036992 0.9984178  0.82023258 0.83299135 0.8307489  0.90318306\n",
            " 0.99241401 0.96797017 0.73916233 0.98838178 0.91505618] \n",
            "\n",
            "Maximum value of each column (using another method):  [0.89036992 0.9984178  0.82023258 0.83299135 0.8307489  0.90318306\n",
            " 0.99241401 0.96797017 0.73916233 0.98838178 0.91505618]\n"
          ]
        }
      ],
      "source": [
        "# Creating a random array of 10x11.\n",
        "Z = np.random.random((10,11))\n",
        "print(\"Z = \\n\", Z, \"\\n\")\n",
        "\n",
        "# Finding the maximum value of each columns in the array above.\n",
        "print(\"Maximum value of each column: \", Z.max(0), \"\\n\")\n",
        "\n",
        "# OR\n",
        "\n",
        "# Finding the maximum value of each column in the array above.\n",
        "y_max = print(\"Maximum value of each column (using another method): \", np.amax(Z,axis=0))"
      ]
    },
    {
      "cell_type": "markdown",
      "id": "5c6ae16b",
      "metadata": {
        "id": "5c6ae16b"
      },
      "source": [
        "### 10. Create a  7x7 array with 1s on the borders (first row and column, last row and columns) and 0s everywhere else"
      ]
    },
    {
      "cell_type": "code",
      "execution_count": 12,
      "id": "6b2202a0",
      "metadata": {
        "colab": {
          "base_uri": "https://localhost:8080/"
        },
        "id": "6b2202a0",
        "outputId": "6a598275-7b5a-40ac-e01d-64a996eeb560"
      },
      "outputs": [
        {
          "output_type": "stream",
          "name": "stdout",
          "text": [
            "[[1 1 1 1 1 1 1]\n",
            " [1 0 0 0 0 0 1]\n",
            " [1 0 0 0 0 0 1]\n",
            " [1 0 0 0 0 0 1]\n",
            " [1 0 0 0 0 0 1]\n",
            " [1 0 0 0 0 0 1]\n",
            " [1 1 1 1 1 1 1]]\n"
          ]
        }
      ],
      "source": [
        "# Creating a 7x7 array with 1s everywhere.\n",
        "a = np.ones((7,7), dtype=np.int8)         # keeping the data type as int to reduce memory usage\n",
        "\n",
        "# Assigning the central 6x6 array with value 0. \n",
        "a[1:-1, 1:-1] = 0\n",
        "\n",
        "print(a)"
      ]
    },
    {
      "cell_type": "markdown",
      "id": "d24d51e7",
      "metadata": {
        "id": "d24d51e7"
      },
      "source": [
        "### 11. Pad the existing array below with zeros (i.e., add additional rows and columns with zeros). Use the NumPy pad function."
      ]
    },
    {
      "cell_type": "code",
      "execution_count": 13,
      "id": "68763e7e",
      "metadata": {
        "colab": {
          "base_uri": "https://localhost:8080/"
        },
        "id": "68763e7e",
        "outputId": "312048dd-ba6a-471b-910e-db6a58d600ae"
      },
      "outputs": [
        {
          "output_type": "stream",
          "name": "stdout",
          "text": [
            "[[0. 0. 0. 0. 0. 0. 0.]\n",
            " [0. 1. 1. 1. 1. 1. 0.]\n",
            " [0. 1. 1. 1. 1. 1. 0.]\n",
            " [0. 1. 1. 1. 1. 1. 0.]\n",
            " [0. 1. 1. 1. 1. 1. 0.]\n",
            " [0. 1. 1. 1. 1. 1. 0.]\n",
            " [0. 0. 0. 0. 0. 0. 0.]]\n"
          ]
        }
      ],
      "source": [
        "# Creating the given 5x5 array with 1s everywhere.\n",
        "Z = np.ones((5,5))\n",
        "\n",
        "# Now, using the pad function, adding additional rows and columns with zeros on all the borders.\n",
        "print(np.pad(Z, [(1,1)], mode='constant'))"
      ]
    },
    {
      "cell_type": "markdown",
      "id": "279a1f62",
      "metadata": {
        "id": "279a1f62"
      },
      "source": [
        "### 12. Extract the integer part of the random array of positive numbers below"
      ]
    },
    {
      "cell_type": "code",
      "execution_count": 14,
      "id": "893ea6cb",
      "metadata": {
        "colab": {
          "base_uri": "https://localhost:8080/"
        },
        "id": "893ea6cb",
        "outputId": "26749034-3545-4745-89aa-85e86b2b6788"
      },
      "outputs": [
        {
          "output_type": "stream",
          "name": "stdout",
          "text": [
            "Original array :  [8.5624927  9.54995869 7.31790478 8.66588438 5.57062427 7.19450839\n",
            " 0.47257305 7.79270207 1.56338875 6.40925521] \n",
            "\n",
            "Array of Integer :  [8 9 7 8 5 7 0 7 1 6]\n"
          ]
        }
      ],
      "source": [
        "# Creating the random array of positive numbers below\n",
        "Z = np.random.uniform(0,10,10)\n",
        "print(\"Original array : \", Z,\"\\n\")\n",
        "\n",
        "# Converting the array element of above array into the integer values.\n",
        "print(\"Array of Integer : \", Z.astype(int))"
      ]
    },
    {
      "cell_type": "markdown",
      "id": "1690dd69",
      "metadata": {
        "id": "1690dd69"
      },
      "source": [
        "### 13. Create a 5x5 matrix with rows with equal values ranging from 0 to 4 (i.e., [0,1,2,3,4])\n",
        "*Hint:* consider using NumPy broadcasting or the tile function*"
      ]
    },
    {
      "cell_type": "code",
      "execution_count": 15,
      "id": "d1f490ab",
      "metadata": {
        "colab": {
          "base_uri": "https://localhost:8080/"
        },
        "id": "d1f490ab",
        "outputId": "dad7e303-c773-410c-889c-fac1c3980cd5"
      },
      "outputs": [
        {
          "output_type": "stream",
          "name": "stdout",
          "text": [
            "Matrix using broadcasting function : \n",
            " [[0 1 2 3 4]\n",
            " [0 1 2 3 4]\n",
            " [0 1 2 3 4]\n",
            " [0 1 2 3 4]\n",
            " [0 1 2 3 4]]\n",
            "\n",
            "Matrix using tile function : \n",
            " [[0 1 2 3 4]\n",
            " [0 1 2 3 4]\n",
            " [0 1 2 3 4]\n",
            " [0 1 2 3 4]\n",
            " [0 1 2 3 4]]\n"
          ]
        }
      ],
      "source": [
        "# Creating a 1D array of values ranging from 0 to 4.\n",
        "x = np.array([0, 1, 2, 3, 4])\n",
        "\n",
        "#Converting a given array into 5x5 matrix with rows with equal values ranging from 0 to 4.\n",
        "a = np.broadcast_to(x, (5, 5))\n",
        "print(\"Matrix using broadcasting function : \\n\", a)\n",
        "\n",
        "#Converting a given array into 5x5 matrix with rows with equal values ranging from 0 to 4.\n",
        "c = np.tile(x,(5,1))\n",
        "print(\"\\nMatrix using tile function : \\n\", c)"
      ]
    },
    {
      "cell_type": "markdown",
      "id": "6c7075a6",
      "metadata": {
        "id": "6c7075a6"
      },
      "source": [
        "### 14. Create a vector of size 10 with values ranging from 0 to 1 (0 and 1 not included)\n",
        "*Hint: Consider using the linspace function*"
      ]
    },
    {
      "cell_type": "code",
      "execution_count": 16,
      "id": "af3cf4b3",
      "metadata": {
        "colab": {
          "base_uri": "https://localhost:8080/"
        },
        "id": "af3cf4b3",
        "outputId": "a626be87-4c10-4cf3-8ee3-b5177a807b5b"
      },
      "outputs": [
        {
          "output_type": "stream",
          "name": "stdout",
          "text": [
            "[0.09090909 0.18181818 0.27272727 0.36363636 0.45454545 0.54545455\n",
            " 0.63636364 0.72727273 0.81818182 0.90909091] \n",
            "Another way:\n",
            " [0.09090909 0.18181818 0.27272727 0.36363636 0.45454545 0.54545455\n",
            " 0.63636364 0.72727273 0.81818182 0.90909091]\n"
          ]
        }
      ],
      "source": [
        "# Creating a vector of size 12 with values from 0 to 1 using linspace;\n",
        "# then slicing off 0 and 1 to finally achieve the vector of size 10.\n",
        "a = np.linspace(0,1,12)[1:-1]\n",
        "\n",
        "print(a, \"\\nAnother way:\\n\", np.linspace(0, 1, 11, endpoint=0)[1:])\n",
        "# Another way excludes the stop point in linspace, so array of size 11 created\n",
        "# then slicing off the unwanted starting element i.e. 0"
      ]
    },
    {
      "cell_type": "markdown",
      "id": "d2b0b57a",
      "metadata": {
        "id": "d2b0b57a"
      },
      "source": [
        "### 15. Create a random vector of size 10 and sort it"
      ]
    },
    {
      "cell_type": "code",
      "execution_count": 17,
      "id": "3a99f476",
      "metadata": {
        "colab": {
          "base_uri": "https://localhost:8080/"
        },
        "id": "3a99f476",
        "outputId": "45907db7-cde7-4958-eea9-478a5cce0e8a"
      },
      "outputs": [
        {
          "output_type": "stream",
          "name": "stdout",
          "text": [
            "Original array:  [22 43 99 83 69 90 27 76 54 52] \n",
            "\n",
            "Sorted array:  [22 27 43 52 54 69 76 83 90 99]\n"
          ]
        }
      ],
      "source": [
        "#Creating a random vector of size 10.\n",
        "x = np.random.randint(0,100,10)\n",
        "print(\"Original array: \", x, \"\\n\")\n",
        "\n",
        "#Sorting the above array in assending order.\n",
        "x.sort()\n",
        "print(\"Sorted array: \", x)"
      ]
    },
    {
      "cell_type": "markdown",
      "id": "1c663163",
      "metadata": {
        "id": "1c663163"
      },
      "source": [
        "### 16. Consider the cartesian coordinates below (X and Y), convert them to polar coordinates (R and T)"
      ]
    },
    {
      "cell_type": "code",
      "execution_count": 18,
      "id": "ef29d319",
      "metadata": {
        "colab": {
          "base_uri": "https://localhost:8080/"
        },
        "id": "ef29d319",
        "outputId": "a9e18dc0-7ea0-448a-94b9-a76a63bdab67"
      },
      "outputs": [
        {
          "output_type": "stream",
          "name": "stdout",
          "text": [
            "Cartesian coordinates: \n",
            "X =  [0.62615913 0.77851486 0.70216217 0.0273368  0.77962667 0.5509961\n",
            " 0.13018459 0.99905175 0.48044964 0.68089052] \n",
            "Y =  [0.78889401 0.18409503 0.03399356 0.26828978 0.75456816 0.63484548\n",
            " 0.72224893 0.02723039 0.04060133 0.33841913] \n",
            "\n",
            "Polar Coordinates: \n",
            "R =  [1.00718866 0.79998523 0.70298455 0.2696789  1.08498426 0.84061018\n",
            " 0.73388796 0.99942278 0.48216213 0.76035479] \n",
            "T =  [0.89989782 0.23220411 0.04837491 1.46925397 0.76906629 0.85598943\n",
            " 1.39246228 0.02724948 0.08430663 0.46126422]\n"
          ]
        }
      ],
      "source": [
        "#Creating a random variable of 10x2 matrix.\n",
        "Z = np.random.random((10,2))\n",
        "X,Y = Z[:,0], Z[:,1]  #Saperating X and Y coordinates from 10x2 matrix.\n",
        "\n",
        "#Converting X and Y cartesian coordinates into the polar coordinates (R and T).\n",
        "R = np.sqrt(X**2 + Y**2)\n",
        "T = np.arctan2(Y, X)\n",
        "\n",
        "print(\"Cartesian coordinates: \\nX = \", X,\"\\nY = \", Y, \"\\n\\nPolar Coordinates: \\nR = \", R, \"\\nT = \", T)"
      ]
    },
    {
      "cell_type": "markdown",
      "id": "5ab97d79",
      "metadata": {
        "id": "5ab97d79"
      },
      "source": [
        "### 17. Create random vector of size 10 and replace the maximum value by 0"
      ]
    },
    {
      "cell_type": "code",
      "execution_count": 19,
      "id": "8cf5d67e",
      "metadata": {
        "colab": {
          "base_uri": "https://localhost:8080/"
        },
        "id": "8cf5d67e",
        "outputId": "83779971-6955-4880-9c96-38635eba0389"
      },
      "outputs": [
        {
          "output_type": "stream",
          "name": "stdout",
          "text": [
            "Original Vector:  [0.99804501 0.40061508 0.47019237 0.85331644 0.22045157 0.73284154\n",
            " 0.60840661 0.36874469 0.68841246 0.17641698]\n",
            "\n",
            " Position of max value in a given vector 0\n",
            "\n",
            " New Vector:  [0.         0.40061508 0.47019237 0.85331644 0.22045157 0.73284154\n",
            " 0.60840661 0.36874469 0.68841246 0.17641698]\n"
          ]
        }
      ],
      "source": [
        "#Create random vector of size 10.\n",
        "Z = np.random.random((10))\n",
        "print(\"Original Vector: \", Z)\n",
        "\n",
        "#Finding the index of max value in a given vector.\n",
        "position = Z.argmax()\n",
        "\n",
        "#Printing the position of max value in a given vector.\n",
        "print(\"\\n\", \"Position of max value in a given vector\", position)\n",
        "\n",
        "#Replacing the max value by zero in a given vector.\n",
        "Z[position] = 0\n",
        "\n",
        "print(\"\\n\", \"New Vector: \", Z)"
      ]
    },
    {
      "cell_type": "markdown",
      "id": "e9794cea",
      "metadata": {
        "id": "e9794cea"
      },
      "source": [
        "### 18. Find the nearest value from a given value (z) in an array (Z)"
      ]
    },
    {
      "cell_type": "code",
      "execution_count": 20,
      "id": "fd6d1db8",
      "metadata": {
        "colab": {
          "base_uri": "https://localhost:8080/"
        },
        "id": "fd6d1db8",
        "outputId": "a142382e-7625-4773-fbff-b67a8e17da94"
      },
      "outputs": [
        {
          "output_type": "stream",
          "name": "stdout",
          "text": [
            "Array Z =  [0.96445382 0.76842504 0.53002584 0.25601001 0.09391889 0.07026315\n",
            " 0.27440178 0.30749945 0.62541305 0.86613387] \n",
            "Entry closest to  0.5  :  0.5300258381500768\n"
          ]
        }
      ],
      "source": [
        "# Creating random uniform vector.\n",
        "Z = np.random.uniform(0,1,10)\n",
        "z = 0.5\n",
        "\n",
        "# Finding the absolute difference between the each element of Z array and the value of z.\n",
        "X = np.abs(Z-z)\n",
        "\n",
        "# Finding the smallest value in X array and printing the same indexed value from Z array.\n",
        "print(\"Array Z = \", Z, \"\\nEntry closest to \",z,\" : \" , Z[X.argmin()])"
      ]
    },
    {
      "cell_type": "markdown",
      "id": "fa7977ee",
      "metadata": {
        "id": "fa7977ee"
      },
      "source": [
        "### 19. Consider the vector [5, 4, 3, 2, 1], how to build a new vector with 3 consecutive zeros interleaved between each value?"
      ]
    },
    {
      "cell_type": "code",
      "execution_count": 21,
      "id": "311c6fce",
      "metadata": {
        "colab": {
          "base_uri": "https://localhost:8080/"
        },
        "id": "311c6fce",
        "outputId": "a9ba7142-d3e7-47a4-ca9d-6252676f268b"
      },
      "outputs": [
        {
          "output_type": "stream",
          "name": "stdout",
          "text": [
            "Original vector:  [5 4 3 2 1] \n",
            "Required vector:  [5 0 0 0 4 0 0 0 3 0 0 0 2 0 0 0 1]\n"
          ]
        }
      ],
      "source": [
        "# Creating the vector as given in the question.\n",
        "Z = np.arange(6)[:0:-1]\n",
        "\n",
        "# Creating a total 12 number of zeros element in 1D array.\n",
        "X = np.zeros(len(Z) + 3*(len(Z)-1), dtype=np.int8)\n",
        "\n",
        "# Merging the above two arrays as required in the question.\n",
        "X[:: 4] = Z\n",
        "print(\"Original vector: \", Z, \"\\nRequired vector: \", X)"
      ]
    },
    {
      "cell_type": "markdown",
      "id": "3c550f53",
      "metadata": {
        "id": "3c550f53"
      },
      "source": [
        "### 20. Consider an array of dimension (5,5,3), how to mulitply it element-wise by an array with dimensions (5,5) - i.e., (5,5,0)(5,5), (5,5,1)(5,5), (5,5,2)(5,5)"
      ]
    },
    {
      "cell_type": "code",
      "execution_count": 22,
      "id": "080fa0dc",
      "metadata": {
        "id": "080fa0dc",
        "outputId": "f0d8c289-9abe-4d40-bf8a-8df80716ba3b",
        "colab": {
          "base_uri": "https://localhost:8080/"
        }
      },
      "outputs": [
        {
          "output_type": "stream",
          "name": "stdout",
          "text": [
            "[[[2. 2. 2.]\n",
            "  [2. 2. 2.]\n",
            "  [2. 2. 2.]\n",
            "  [2. 2. 2.]\n",
            "  [2. 2. 2.]]\n",
            "\n",
            " [[2. 2. 2.]\n",
            "  [2. 2. 2.]\n",
            "  [2. 2. 2.]\n",
            "  [2. 2. 2.]\n",
            "  [2. 2. 2.]]\n",
            "\n",
            " [[2. 2. 2.]\n",
            "  [2. 2. 2.]\n",
            "  [2. 2. 2.]\n",
            "  [2. 2. 2.]\n",
            "  [2. 2. 2.]]\n",
            "\n",
            " [[2. 2. 2.]\n",
            "  [2. 2. 2.]\n",
            "  [2. 2. 2.]\n",
            "  [2. 2. 2.]\n",
            "  [2. 2. 2.]]\n",
            "\n",
            " [[2. 2. 2.]\n",
            "  [2. 2. 2.]\n",
            "  [2. 2. 2.]\n",
            "  [2. 2. 2.]\n",
            "  [2. 2. 2.]]]\n"
          ]
        }
      ],
      "source": [
        "#Creating a array of (5,5,3) 1s matrix.\n",
        "A = np.ones((5,5,3))\n",
        "\n",
        "#Creating a array of (5,5) 2s matrix.\n",
        "B = 2*np.ones((5,5))\n",
        "\n",
        "#Converting it into 5*5*1 matrix\n",
        "C = B[:,:,None]  \n",
        "\n",
        "print(A*C)\n"
      ]
    },
    {
      "cell_type": "markdown",
      "id": "c6f22747",
      "metadata": {
        "id": "c6f22747"
      },
      "source": [
        "### 21. Swap the first and second rows of the 2D array below"
      ]
    },
    {
      "cell_type": "code",
      "execution_count": 23,
      "id": "4870dbb9",
      "metadata": {
        "id": "4870dbb9",
        "outputId": "06f4e99d-c029-46a3-e831-fcf8d6db8b6c",
        "colab": {
          "base_uri": "https://localhost:8080/"
        }
      },
      "outputs": [
        {
          "output_type": "stream",
          "name": "stdout",
          "text": [
            "Original array: \n",
            " [[ 0  1  2  3  4]\n",
            " [ 5  6  7  8  9]\n",
            " [10 11 12 13 14]\n",
            " [15 16 17 18 19]\n",
            " [20 21 22 23 24]\n",
            " [25 26 27 28 29]]\n",
            "\n",
            " New array: \n",
            " [[ 5  6  7  8  9]\n",
            " [ 0  1  2  3  4]\n",
            " [10 11 12 13 14]\n",
            " [15 16 17 18 19]\n",
            " [20 21 22 23 24]\n",
            " [25 26 27 28 29]]\n"
          ]
        }
      ],
      "source": [
        "#Creating a 65 matrix.\n",
        "W = np.arange(30).reshape(6,5)\n",
        "print(\"Original array: \\n\", W)\n",
        "\n",
        "#Swapping the first and second row with eachother.\n",
        "W[[0,1]] = W[[1,0]]\n",
        "print(\"\\n\", \"New array: \\n\", W)"
      ]
    },
    {
      "cell_type": "markdown",
      "id": "b30b00b5",
      "metadata": {
        "id": "b30b00b5"
      },
      "source": [
        "### 22. Write a function that receives as input a 2D Boolean NumPy array and outputs the coordinates of the minimal bounding-box that encloses all non-zero elements in the input array\n",
        "\n",
        "**Tip:** search for the functions nonzero and where in the NumPy documentation.\n",
        "\n",
        "\n"
      ]
    },
    {
      "cell_type": "code",
      "execution_count": 26,
      "id": "2d93e265",
      "metadata": {
        "id": "2d93e265",
        "outputId": "4dda8900-fa6e-49da-d5ba-c43391453f66",
        "colab": {
          "base_uri": "https://localhost:8080/",
          "height": 287
        }
      },
      "outputs": [
        {
          "output_type": "stream",
          "name": "stdout",
          "text": [
            "Output coordinates:  ((29, 50), (342, 431))\n"
          ]
        },
        {
          "output_type": "display_data",
          "data": {
            "image/png": "[encoded data removed]",
            "text/plain": [
              "<Figure size 432x288 with 1 Axes>"
            ]
          },
          "metadata": {
            "needs_background": "light"
          }
        }
      ],
      "source": [
        "# Define a function for finding the coordinates of the minimal bounding-box that encloses all non-zero elements in the input array\n",
        "def bbox(img):\n",
        "    a = np.argwhere(img)    # Creating a matrix(72825x2) having true boolean value  \n",
        "    r1 = np.amin(a[:,0:1])  # From the above matrix, extracting top left coordinates\n",
        "    c1 = np.amin(a[:,1:])   # From the above matrix, extracting top left coordinates\n",
        "    r2 = np.amax(a[:,0:1])  # From the above matrix, extracting bottom Right coordinates\n",
        "    c2 = np.amax(a[:,1:])   # From the above matrix, extracting bottom Right coordinates\n",
        "    return (r1,c1),(r2,c2)\n",
        "\n",
        "from PIL import Image\n",
        "\n",
        "img = np.array(Image.open('bin_image.png').convert('L')) > 0  #Downloaded the image and opened from local path\n",
        "print(\"Output coordinates: \", bbox(img))\n",
        "\n",
        "#Ploting the cropped image just for reference.\n",
        "plt.imshow(img[29:342, 50:431])\n",
        "plt.show()"
      ]
    },
    {
      "cell_type": "code",
      "source": [
        "!pwd   # used to see the current directory, and uploaded the image in that directory "
      ],
      "metadata": {
        "id": "mYB-EiJzJw5L",
        "outputId": "94b7d586-c808-4013-fde2-a633c8d9fae7",
        "colab": {
          "base_uri": "https://localhost:8080/"
        }
      },
      "id": "mYB-EiJzJw5L",
      "execution_count": 25,
      "outputs": [
        {
          "output_type": "stream",
          "name": "stdout",
          "text": [
            "/content\n"
          ]
        }
      ]
    },
    {
      "cell_type": "markdown",
      "id": "a8e5802e",
      "metadata": {
        "id": "a8e5802e"
      },
      "source": [
        "### 23.Write a function to compute the average over a sliding window of length N over a 1D array?\n",
        "*Example:* [1,2,3,4,5,6,7,8,9], N = 3 -> [2,5,8]"
      ]
    },
    {
      "cell_type": "code",
      "execution_count": 27,
      "id": "b4a0e0b8",
      "metadata": {
        "id": "b4a0e0b8",
        "outputId": "b5c338d2-47d0-49ae-ded0-94b37f0b247c",
        "colab": {
          "base_uri": "https://localhost:8080/"
        }
      },
      "outputs": [
        {
          "output_type": "stream",
          "name": "stdout",
          "text": [
            "[ 1.  4.  7. 10. 13. 16. 19. 22. 25. 28.]\n"
          ]
        }
      ],
      "source": [
        "# Define a function to compute the average over a sliding window of length N over a 1D array.\n",
        "def moving_average(x,N = 3):\n",
        "    cum = np.cumsum(x, dtype=float)   # Calculate the cumulative sum array of given array.\n",
        "    cum[N:] = cum[N:] - cum[:-N]\n",
        "    a = cum[N - 1:] / N\n",
        "    return a[0::N]\n",
        "\n",
        "a = np.arange(30)\n",
        "N = 3\n",
        "print(moving_average(a,N))"
      ]
    },
    {
      "cell_type": "markdown",
      "id": "cb4bcd65",
      "metadata": {
        "id": "cb4bcd65"
      },
      "source": [
        "### 24. Given a sorted 1D array C that corresponds to a bincount, how to produce an array A such that np.bincount(A) == C?\n",
        "*Example:* C = [3,2,4] -> D = [0,0,0,1,1,2,2,2,2]\n",
        "\n",
        "*Tip:* Consider using the NumPy repeat function"
      ]
    },
    {
      "cell_type": "code",
      "execution_count": 28,
      "id": "6fb571e3",
      "metadata": {
        "id": "6fb571e3",
        "outputId": "003e82d6-0fbf-4ff0-b1ff-94c1ee28e1a2",
        "colab": {
          "base_uri": "https://localhost:8080/"
        }
      },
      "outputs": [
        {
          "output_type": "stream",
          "name": "stdout",
          "text": [
            "C =  [0 2 1 1 2 0 1] -> A =  [1 1 2 3 4 4 6]\n"
          ]
        }
      ],
      "source": [
        "C = np.bincount([1,1,2,3,4,4,6])\n",
        "\n",
        "A = np.repeat(np.arange(len(C)), C)\n",
        "print(\"C = \", C, \"-> A = \", A)"
      ]
    },
    {
      "cell_type": "markdown",
      "id": "a880f0c1",
      "metadata": {
        "id": "a880f0c1"
      },
      "source": [
        "### 25. Find the most frequent value in the array below?"
      ]
    },
    {
      "cell_type": "code",
      "execution_count": 29,
      "id": "65059b0d",
      "metadata": {
        "id": "65059b0d",
        "outputId": "925d91dc-741b-434c-d9a0-49e780c57f6b",
        "colab": {
          "base_uri": "https://localhost:8080/"
        }
      },
      "outputs": [
        {
          "output_type": "stream",
          "name": "stdout",
          "text": [
            "Z =  [8 0 6 6 7 7 9 3 1 6 2 5 7 9 5 7 1 7 4 9 9 8 4 0 7 7 4 7 7 1 9 2 8 0 5 5 2\n",
            " 3 0 5 2 1 8 9 0 1 6 1 7 6]\n",
            "Most frequent value in the array: 7\n"
          ]
        }
      ],
      "source": [
        "# Creating a random integer array\n",
        "Z = np.random.randint(0,10,50)\n",
        "print(\"Z = \", Z)\n",
        "print('Most frequent value in the array:', np.bincount(Z).argmax())\n",
        "# counted the number of occurance of each element of the array using bincount\n",
        "# and found the maximum of that using argmax"
      ]
    },
    {
      "cell_type": "markdown",
      "id": "92d7026c",
      "metadata": {
        "id": "92d7026c"
      },
      "source": [
        "### 26. Write a function to return the n largest values of an array"
      ]
    },
    {
      "cell_type": "code",
      "execution_count": 30,
      "id": "985ea7ca",
      "metadata": {
        "id": "985ea7ca",
        "outputId": "753acf9f-72cf-42db-97c1-c7d5430c4012",
        "colab": {
          "base_uri": "https://localhost:8080/"
        }
      },
      "outputs": [
        {
          "output_type": "stream",
          "name": "stdout",
          "text": [
            "The largest 5 values of an array are: [9999 9998 9997 9996 9995]\n"
          ]
        }
      ],
      "source": [
        "# Define the function to fine the n largest values of an array\n",
        "def nlargest(a,n = 5):\n",
        "    d = np.sort(a)       # sorting the array in ascending order\n",
        "    d = d[::-1]          # inversing the sorted array i.e. array sorted in descending order\n",
        "    return d[0:n]        # return the n largest values\n",
        "\n",
        "Z = np.arange(10000)\n",
        "np.random.shuffle(Z)\n",
        "n = 5\n",
        "print(\"The largest\", n, \"values of an array are:\", nlargest(Z,n))  "
      ]
    }
  ],
  "metadata": {
    "kernelspec": {
      "display_name": "Python 3 (ipykernel)",
      "language": "python",
      "name": "python3"
    },
    "language_info": {
      "codemirror_mode": {
        "name": "ipython",
        "version": 3
      },
      "file_extension": ".py",
      "mimetype": "text/x-python",
      "name": "python",
      "nbconvert_exporter": "python",
      "pygments_lexer": "ipython3",
      "version": "3.9.7"
    },
    "colab": {
      "name": "Assignment_1.ipynb",
      "provenance": [],
      "include_colab_link": true
    }
  },
  "nbformat": 4,
  "nbformat_minor": 5
}