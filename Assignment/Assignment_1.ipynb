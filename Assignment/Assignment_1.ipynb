{
  "cells": [
    {
      "cell_type": "markdown",
      "metadata": {
        "id": "view-in-github",
        "colab_type": "text"
      },
      "source": [
        "<a href=\"https://colab.research.google.com/github/mananpatel126/Teamwork/blob/main/Assignment/Assignment_1.ipynb\" target=\"_parent\"><img src=\"https://colab.research.google.com/assets/colab-badge.svg\" alt=\"Open In Colab\"/></a>"
      ]
    },
    {
      "cell_type": "markdown",
      "id": "8f7a89f8",
      "metadata": {
        "id": "8f7a89f8"
      },
      "source": [
        "<br>\n",
        "<div align=\"Center\"><font face=\"Calibri\" size=\"40px\" color=\"#000000\"><strong>ASSIGNMENT #01</strong></font></div>\n",
        "<br>\n",
        "<div align=\"Center\"><font face=\"Calibri\" size=\"28px\" color=\"#000000\"><strong>Python-Numpy-Programming</strong></font></div>\n",
        "<br>\n",
        "<div align=\"Center\"><font size=\"8\" face=\"Calibri\" size=\"14px\" color=\"#000000\"><strong>ENEL:- 645 Data Mining and Machine learning</strong> </font></div>\n",
        "    \n"
      ]
    },
    {
      "cell_type": "markdown",
      "id": "40c66a92",
      "metadata": {
        "id": "40c66a92"
      },
      "source": [
        "<br>\n",
        "<div align=\"Left\"><font size=\"6\" face=\"Calibri\" size=\"14px\" color=\"#000000\">Manan Patel : 30126849</font></div>\n",
        "<div align=\"Left\"><font size=\"6\" face=\"Calibri\" size=\"14px\" color=\"#000000\">Vishal Patel : 30126128</font></div>\n",
        "<div align=\"Left\"><font size=\"6\" face=\"Calibri\" size=\"14px\" color=\"#000000\">Dishank Bhavsar : 30136156</font></div>\n",
        "<div align=\"Left\"><font size=\"6\" face=\"Calibri\" size=\"14px\" color=\"#000000\">Karnav Joshi : 30126641</font></div>\n",
        "<div align=\"Left\"><font size=\"6\" face=\"Calibri\" size=\"14px\" color=\"#000000\">Romil Patel : 30129768</font></div>\n",
        "<div align=\"Left\"><font size=\"6\" face=\"Calibri\" size=\"14px\" color=\"#000000\">Jay Patel : 30110511</font></div>\n",
        "<br>\n"
      ]
    },
    {
      "cell_type": "code",
      "execution_count": null,
      "id": "534dc6b7",
      "metadata": {
        "id": "534dc6b7"
      },
      "outputs": [],
      "source": [
        "import matplotlib.pylab as plt"
      ]
    },
    {
      "cell_type": "markdown",
      "id": "36fb5296",
      "metadata": {
        "id": "36fb5296"
      },
      "source": [
        "### 1. Import the numpy package under the name np"
      ]
    },
    {
      "cell_type": "code",
      "source": [
        "import numpy as np        # importing the numpy package"
      ],
      "metadata": {
        "id": "L58s7U4g_gKH"
      },
      "id": "L58s7U4g_gKH",
      "execution_count": 1,
      "outputs": []
    },
    {
      "cell_type": "markdown",
      "id": "f20af175",
      "metadata": {
        "id": "f20af175"
      },
      "source": [
        "### 2. Print the numpy version and the configuration"
      ]
    },
    {
      "cell_type": "code",
      "execution_count": 2,
      "id": "ce84f572",
      "metadata": {
        "colab": {
          "base_uri": "https://localhost:8080/"
        },
        "id": "ce84f572",
        "outputId": "03033988-1d5c-4a60-8bea-093d1d4cac74"
      },
      "outputs": [
        {
          "output_type": "stream",
          "name": "stdout",
          "text": [
            "1.19.5\n"
          ]
        }
      ],
      "source": [
        "print(np.__version__)     # printing the version of numpy"
      ]
    },
    {
      "cell_type": "code",
      "execution_count": 3,
      "id": "2c3e9c9d",
      "metadata": {
        "colab": {
          "base_uri": "https://localhost:8080/"
        },
        "id": "2c3e9c9d",
        "outputId": "23ef0e7c-9d02-4e4c-dcad-44f313fd8770"
      },
      "outputs": [
        {
          "output_type": "stream",
          "name": "stdout",
          "text": [
            "blas_mkl_info:\n",
            "  NOT AVAILABLE\n",
            "blis_info:\n",
            "  NOT AVAILABLE\n",
            "openblas_info:\n",
            "    libraries = ['openblas', 'openblas']\n",
            "    library_dirs = ['/usr/local/lib']\n",
            "    language = c\n",
            "    define_macros = [('HAVE_CBLAS', None)]\n",
            "blas_opt_info:\n",
            "    libraries = ['openblas', 'openblas']\n",
            "    library_dirs = ['/usr/local/lib']\n",
            "    language = c\n",
            "    define_macros = [('HAVE_CBLAS', None)]\n",
            "lapack_mkl_info:\n",
            "  NOT AVAILABLE\n",
            "openblas_lapack_info:\n",
            "    libraries = ['openblas', 'openblas']\n",
            "    library_dirs = ['/usr/local/lib']\n",
            "    language = c\n",
            "    define_macros = [('HAVE_CBLAS', None)]\n",
            "lapack_opt_info:\n",
            "    libraries = ['openblas', 'openblas']\n",
            "    library_dirs = ['/usr/local/lib']\n",
            "    language = c\n",
            "    define_macros = [('HAVE_CBLAS', None)]\n",
            "None\n"
          ]
        }
      ],
      "source": [
        "print(np.show_config())   # printing the configuration of numpy"
      ]
    },
    {
      "cell_type": "markdown",
      "id": "2619ee08",
      "metadata": {
        "id": "2619ee08"
      },
      "source": [
        "### 3. Create a 1D array of zeros of size 10 of type float32\n",
        "\n"
      ]
    },
    {
      "cell_type": "code",
      "execution_count": 4,
      "id": "3e18051b",
      "metadata": {
        "colab": {
          "base_uri": "https://localhost:8080/"
        },
        "id": "3e18051b",
        "outputId": "74d99c9e-c1cc-4f83-9e03-9c1f11383001"
      },
      "outputs": [
        {
          "output_type": "stream",
          "name": "stdout",
          "text": [
            "a =  [0. 0. 0. 0. 0. 0. 0. 0. 0. 0.]\n",
            "Shape of array =  (10,)\n",
            "Data type of array =  float32\n"
          ]
        }
      ],
      "source": [
        "a = np.zeros((10), dtype=np.float32)\n",
        "print(\"a = \", a)                           # Printing the array, a\n",
        "print(\"Shape of array = \", a.shape)        # Printing the shape of array, a \n",
        "print(\"Data type of array = \", a.dtype)    # Printing the data type of array, a"
      ]
    },
    {
      "cell_type": "markdown",
      "id": "4cbdc82d",
      "metadata": {
        "id": "4cbdc82d"
      },
      "source": [
        "### 4. Print the memory size of the array below"
      ]
    },
    {
      "cell_type": "code",
      "execution_count": 5,
      "id": "fceb1502",
      "metadata": {
        "colab": {
          "base_uri": "https://localhost:8080/"
        },
        "id": "fceb1502",
        "outputId": "f24e3fca-77fa-44ae-f8d9-9cbcfd4e7ab6"
      },
      "outputs": [
        {
          "output_type": "stream",
          "name": "stdout",
          "text": [
            "Size of the array:  384\n",
            "The memory size of single array element:  8  bytes\n",
            "\n",
            "\n",
            "The memory size of numpy array : 3072  bytes\n"
          ]
        }
      ],
      "source": [
        "Z = np.zeros((32,12))\n",
        "\n",
        "#Printing the size of the array.\n",
        "print(\"Size of the array: \", Z.size)  \n",
        "\n",
        "# Printing the memory size of single array element. \n",
        "print(\"The memory size of single array element: \", Z.itemsize, \" bytes\")  \n",
        "\n",
        "print(\"\\n\")\n",
        "\n",
        "# Printing the memory size of numpy array in bytes.\n",
        "print(\"The memory size of numpy array :\", Z.size * Z.itemsize, \" bytes\") "
      ]
    },
    {
      "cell_type": "markdown",
      "id": "e38c17ed",
      "metadata": {
        "id": "e38c17ed"
      },
      "source": [
        "### 5. Create a 1D array with values ranging from 10 to 58"
      ]
    },
    {
      "cell_type": "code",
      "execution_count": 9,
      "id": "49c55152",
      "metadata": {
        "colab": {
          "base_uri": "https://localhost:8080/"
        },
        "id": "49c55152",
        "outputId": "a1404b26-25c8-458f-8068-1344a97b9e0d"
      },
      "outputs": [
        {
          "output_type": "stream",
          "name": "stdout",
          "text": [
            "x = \n",
            " [10 11 12 13 14 15 16 17 18 19 20 21 22 23 24 25 26 27 28 29 30 31 32 33\n",
            " 34 35 36 37 38 39 40 41 42 43 44 45 46 47 48 49 50 51 52 53 54 55 56 57\n",
            " 58]\n"
          ]
        }
      ],
      "source": [
        "#Creating the 1D array with value ranging from 10 to 58 (both inclusive).\n",
        "x = np.arange(10, 59)\n",
        "\n",
        "print(\"x = \\n\", x)"
      ]
    },
    {
      "cell_type": "markdown",
      "id": "0109df74",
      "metadata": {
        "id": "0109df74"
      },
      "source": [
        "### 6. Reverse the order of the values in the vector (first element becomes last)"
      ]
    },
    {
      "cell_type": "code",
      "execution_count": 7,
      "id": "bdc3d5ee",
      "metadata": {
        "colab": {
          "base_uri": "https://localhost:8080/"
        },
        "id": "bdc3d5ee",
        "outputId": "03d7d183-4c3e-4de6-a426-827f76293e66"
      },
      "outputs": [
        {
          "output_type": "stream",
          "name": "stdout",
          "text": [
            "Original vector =  [0 1 2 3 4 5 6 7 8 9]\n",
            "Reversed vector =  [9 8 7 6 5 4 3 2 1 0]\n"
          ]
        }
      ],
      "source": [
        "#Creating a 1D vector.\n",
        "a = np.arange(10)\n",
        "print(\"Original vector = \", a)\n",
        "\n",
        "#Reversing the order of the values in the given vector.\n",
        "a = a[::-1]\n",
        "print(\"Reversed vector = \", a)"
      ]
    },
    {
      "cell_type": "markdown",
      "id": "c3988188",
      "metadata": {
        "id": "c3988188"
      },
      "source": [
        "### 7. Create a 3x3 matrix with values ranging from 0 to 8"
      ]
    },
    {
      "cell_type": "code",
      "execution_count": 10,
      "id": "cbed338d",
      "metadata": {
        "colab": {
          "base_uri": "https://localhost:8080/"
        },
        "id": "cbed338d",
        "outputId": "c5b59f95-21a8-40a5-90e7-98110724a3f0"
      },
      "outputs": [
        {
          "output_type": "stream",
          "name": "stdout",
          "text": [
            "Matrix, a = \n",
            " [[0 1 2]\n",
            " [3 4 5]\n",
            " [6 7 8]]\n",
            "Matrix, b = \n",
            " [[0 1 2]\n",
            " [3 4 5]\n",
            " [6 7 8]]\n"
          ]
        }
      ],
      "source": [
        "# Creating a 1D array with value ranging from 0 to 8.\n",
        "a = np.arange(0,9)\n",
        "\n",
        "# Converting the above array into 3x3 matrix\n",
        "print(\"Matrix, a = \\n\", a.reshape(3,3))\n",
        "\n",
        "# Or executing both the above steps in one code line:\n",
        "print(\"Matrix, b = \\n\", np.arange(0,9).reshape(3,3))"
      ]
    },
    {
      "cell_type": "markdown",
      "id": "4094cd72",
      "metadata": {
        "id": "4094cd72"
      },
      "source": [
        "### 8. Create a 3x3 identity matrix"
      ]
    },
    {
      "cell_type": "code",
      "execution_count": 12,
      "id": "6b650e07",
      "metadata": {
        "colab": {
          "base_uri": "https://localhost:8080/"
        },
        "id": "6b650e07",
        "outputId": "448dfd00-fee9-49f9-a08a-8490217a8c1a"
      },
      "outputs": [
        {
          "output_type": "stream",
          "name": "stdout",
          "text": [
            "Identity matrix, a = \n",
            " [[1. 0. 0.]\n",
            " [0. 1. 0.]\n",
            " [0. 0. 1.]]\n"
          ]
        }
      ],
      "source": [
        "#Creating a 3x3 identity matrix.\n",
        "a = np.identity(3)\n",
        "\n",
        "print(\"Identity matrix, a = \\n\", a)"
      ]
    },
    {
      "cell_type": "markdown",
      "id": "2b2b5697",
      "metadata": {
        "id": "2b2b5697"
      },
      "source": [
        "### 9. Find and print the maximum values of each column in the array below"
      ]
    },
    {
      "cell_type": "code",
      "execution_count": null,
      "id": "302deb6d",
      "metadata": {
        "id": "302deb6d",
        "outputId": "0fada09c-cbbc-4bd5-a88c-c671cad2be83"
      },
      "outputs": [
        {
          "name": "stdout",
          "output_type": "stream",
          "text": [
            "[[0.05065869 0.58076706 0.89448364 0.80140348 0.36507865 0.5499755\n",
            "  0.02238136 0.66531085 0.316166   0.5848859  0.8382113 ]\n",
            " [0.73495508 0.33280441 0.8380145  0.94231406 0.77766585 0.02531739\n",
            "  0.32874936 0.92633502 0.5136865  0.28220962 0.70383229]\n",
            " [0.83352033 0.68005735 0.23046574 0.98431958 0.16208038 0.67797023\n",
            "  0.32047142 0.67059188 0.75278221 0.33761342 0.91025462]\n",
            " [0.55423265 0.18878697 0.03567333 0.63035917 0.96896372 0.26503552\n",
            "  0.03200666 0.67797622 0.88217983 0.83089934 0.45937244]\n",
            " [0.76717365 0.12476005 0.00882447 0.72612237 0.84194564 0.77801467\n",
            "  0.47278313 0.59322228 0.54634754 0.85669542 0.97154799]\n",
            " [0.12766567 0.78643878 0.27075803 0.30607919 0.50795991 0.75791523\n",
            "  0.41711944 0.52318844 0.74534567 0.1055611  0.73805164]\n",
            " [0.23675638 0.53864504 0.21608531 0.40481448 0.39093692 0.32756485\n",
            "  0.04092019 0.41964041 0.91624206 0.60222985 0.06320581]\n",
            " [0.16728535 0.54470069 0.62323254 0.87326104 0.61732919 0.20415854\n",
            "  0.72833082 0.1674306  0.96859205 0.90618452 0.0824207 ]\n",
            " [0.58979609 0.04938505 0.22020916 0.00626238 0.24388165 0.06700273\n",
            "  0.25625115 0.5976313  0.82983014 0.85466254 0.01754971]\n",
            " [0.80026249 0.12294617 0.43111828 0.44131986 0.21112888 0.58284766\n",
            "  0.25934173 0.41421111 0.91484352 0.11714936 0.56988047]]\n",
            "\n",
            "\n",
            "Maximum value of each column:  [0.83352033 0.78643878 0.89448364 0.98431958 0.96896372 0.77801467\n",
            " 0.72833082 0.92633502 0.96859205 0.90618452 0.97154799]\n",
            "\n",
            "\n",
            "Maximum value of each column:  [0.83352033 0.78643878 0.89448364 0.98431958 0.96896372 0.77801467\n",
            " 0.72833082 0.92633502 0.96859205 0.90618452 0.97154799]\n"
          ]
        }
      ],
      "source": [
        "#Creating a random array of 10x11.\n",
        "Z = np.random.random((10,11))\n",
        "print(Z)\n",
        "print(\"\\n\")\n",
        "\n",
        "#Finding the maximum value of each columns in the array above.\n",
        "print(\"Maximum value of each column: \", Z.max(0))\n",
        "\n",
        "print(\"\\n\")#OR\n",
        "\n",
        "#Finding the maximum value of each column in the array above.\n",
        "y_max = print(\"Maximum value of each column: \", np.amax(Z,axis=0))\n",
        "\n"
      ]
    },
    {
      "cell_type": "markdown",
      "id": "5c6ae16b",
      "metadata": {
        "id": "5c6ae16b"
      },
      "source": [
        "### 10. Create a  7x7 array with 1s on the borders (first row and column, last row and columns) and 0s everywhere else"
      ]
    },
    {
      "cell_type": "code",
      "execution_count": null,
      "id": "6b2202a0",
      "metadata": {
        "id": "6b2202a0",
        "outputId": "56771ff0-e003-4cc2-bbd1-8c6c231d8b9f"
      },
      "outputs": [
        {
          "name": "stdout",
          "output_type": "stream",
          "text": [
            "[[1. 1. 1. 1. 1. 1. 1.]\n",
            " [1. 0. 0. 0. 0. 0. 1.]\n",
            " [1. 0. 0. 0. 0. 0. 1.]\n",
            " [1. 0. 0. 0. 0. 0. 1.]\n",
            " [1. 0. 0. 0. 0. 0. 1.]\n",
            " [1. 0. 0. 0. 0. 0. 1.]\n",
            " [1. 1. 1. 1. 1. 1. 1.]]\n"
          ]
        }
      ],
      "source": [
        "#Creating a 7x7 array with 1s everywhere.\n",
        "a = np.ones((7,7))\n",
        "\n",
        "#Creating a 7x7 array with 1s on the borders and 0s everywhere else. \n",
        "a[1:-1, 1:-1] = 0\n",
        "\n",
        "print(a)"
      ]
    },
    {
      "cell_type": "markdown",
      "id": "d24d51e7",
      "metadata": {
        "id": "d24d51e7"
      },
      "source": [
        "### 11. Pad the existing array below with zeros (i.e., add additional rows and columns with zeros). Use the NumPy pad function."
      ]
    },
    {
      "cell_type": "code",
      "execution_count": null,
      "id": "68763e7e",
      "metadata": {
        "id": "68763e7e",
        "outputId": "73e9332a-b15e-41ef-b196-7f64972e0825"
      },
      "outputs": [
        {
          "name": "stdout",
          "output_type": "stream",
          "text": [
            "[[0. 0. 0. 0. 0. 0. 0.]\n",
            " [0. 1. 1. 1. 1. 1. 0.]\n",
            " [0. 1. 1. 1. 1. 1. 0.]\n",
            " [0. 1. 1. 1. 1. 1. 0.]\n",
            " [0. 1. 1. 1. 1. 1. 0.]\n",
            " [0. 1. 1. 1. 1. 1. 0.]\n",
            " [0. 0. 0. 0. 0. 0. 0.]]\n"
          ]
        }
      ],
      "source": [
        "#Creating a 5x5 array with 1s everywhere.\n",
        "Z = np.ones((5,5))\n",
        "\n",
        "#Now, using the pad function, adding additional rows and columns with zeros on the border.\n",
        "print(np.pad(Z, [(1,1)], mode='constant'))"
      ]
    },
    {
      "cell_type": "markdown",
      "id": "279a1f62",
      "metadata": {
        "id": "279a1f62"
      },
      "source": [
        "### 12. Extract the integer part of the random array of positive numbers below"
      ]
    },
    {
      "cell_type": "code",
      "execution_count": null,
      "id": "893ea6cb",
      "metadata": {
        "id": "893ea6cb",
        "outputId": "770d8094-caa9-4371-8b2b-04ea6a22954f"
      },
      "outputs": [
        {
          "name": "stdout",
          "output_type": "stream",
          "text": [
            "[3.28181957 1.38916532 9.28519089 3.60510141 5.39682904 5.68804909\n",
            " 9.10547936 7.10356026 5.94257727 9.52258907] \n",
            "\n",
            "[3 1 9 3 5 5 9 7 5 9]\n"
          ]
        }
      ],
      "source": [
        "#Creating the random array of positive numbers below\n",
        "Z = np.random.uniform(0,10,10)\n",
        "print(Z,\"\\n\")\n",
        "\n",
        "#Converting the array element of above array into the integer values.\n",
        "print(Z.astype(int))"
      ]
    },
    {
      "cell_type": "markdown",
      "id": "1690dd69",
      "metadata": {
        "id": "1690dd69"
      },
      "source": [
        "### 13. Create a 5x5 matrix with rows with equal values ranging from 0 to 4 (i.e., [0,1,2,3,4])"
      ]
    },
    {
      "cell_type": "code",
      "execution_count": null,
      "id": "d1f490ab",
      "metadata": {
        "id": "d1f490ab",
        "outputId": "4c4ad8d0-5b11-4d61-b32a-0f3a306ca0e1"
      },
      "outputs": [
        {
          "name": "stdout",
          "output_type": "stream",
          "text": [
            "[[0 1 2 3 4]\n",
            " [0 1 2 3 4]\n",
            " [0 1 2 3 4]\n",
            " [0 1 2 3 4]\n",
            " [0 1 2 3 4]]\n",
            "\n",
            " OR \n",
            "\n",
            "[[0 1 2 3 4]\n",
            " [0 1 2 3 4]\n",
            " [0 1 2 3 4]\n",
            " [0 1 2 3 4]\n",
            " [0 1 2 3 4]]\n"
          ]
        }
      ],
      "source": [
        "#Creating a 1D array of values ranging from 0 to 4.\n",
        "x = np.array([0, 1, 2, 3, 4])\n",
        "\n",
        "#Converting a given array into 5x5 matrix with rows with equal values ranging from 0 to 4.\n",
        "a = np.broadcast_to(x, (5, 5))\n",
        "print(a)\n",
        "\n",
        "print(\"\\n\", \"OR\", \"\\n\")\n",
        "\n",
        "#Converting a given array into 5x5 matrix with rows with equal values ranging from 0 to 4.\n",
        "c = np.tile(x,(5,1))\n",
        "print(c)"
      ]
    },
    {
      "cell_type": "markdown",
      "id": "6c7075a6",
      "metadata": {
        "id": "6c7075a6"
      },
      "source": [
        "### 14. Create a vector of size 10 with values ranging from 0 to 1 (0 and 1 not included)"
      ]
    },
    {
      "cell_type": "code",
      "execution_count": null,
      "id": "af3cf4b3",
      "metadata": {
        "id": "af3cf4b3",
        "outputId": "096c441d-95e3-4dab-83c7-20087108fd26"
      },
      "outputs": [
        {
          "name": "stdout",
          "output_type": "stream",
          "text": [
            "[0.09090909 0.18181818 0.27272727 0.36363636 0.45454545 0.54545455\n",
            " 0.63636364 0.72727273 0.81818182 0.90909091]\n"
          ]
        }
      ],
      "source": [
        "#Creating a vector of size 10 with values ranging from 0 to 1 (0 and 1 not included)\n",
        "a = np.linspace(0,1,12)[1:-1]\n",
        "\n",
        "print(a)"
      ]
    },
    {
      "cell_type": "markdown",
      "id": "d2b0b57a",
      "metadata": {
        "id": "d2b0b57a"
      },
      "source": [
        "### 15. Create a random vector of size 10 and sort it"
      ]
    },
    {
      "cell_type": "code",
      "execution_count": null,
      "id": "3a99f476",
      "metadata": {
        "id": "3a99f476",
        "outputId": "ab6c30bb-cb5d-468c-cdb1-84503244b4b3"
      },
      "outputs": [
        {
          "name": "stdout",
          "output_type": "stream",
          "text": [
            "Original array:\n",
            "[83 90 57 28 66 98 49  2 67 54] \n",
            "\n",
            "Sorted array:\n",
            "[ 2 28 49 54 57 66 67 83 90 98]\n"
          ]
        }
      ],
      "source": [
        "#Creating a random vector of size 10.\n",
        "x = np.random.randint(0,100,10)\n",
        "print(\"Original array:\")\n",
        "print(x, \"\\n\")\n",
        "\n",
        "#Sorting the above array in assending order.\n",
        "x.sort()\n",
        "print(\"Sorted array:\")\n",
        "print(x)"
      ]
    },
    {
      "cell_type": "markdown",
      "id": "1c663163",
      "metadata": {
        "id": "1c663163"
      },
      "source": [
        "### 16. Consider the cartesian coordinates below (X and Y), convert them to polar coordinates (R and T)"
      ]
    },
    {
      "cell_type": "code",
      "execution_count": null,
      "id": "ef29d319",
      "metadata": {
        "id": "ef29d319",
        "outputId": "02adce99-de6b-4896-a685-1412454cddce"
      },
      "outputs": [
        {
          "name": "stdout",
          "output_type": "stream",
          "text": [
            "[1.07756014 0.66257281 0.99956478 0.17047534 0.31669542 0.60292113\n",
            " 0.1907207  0.90895934 0.89746849 0.64973844]\n",
            "[1.11019533 1.05036838 0.84215155 0.4541034  0.01989371 1.22984959\n",
            " 0.78445768 0.96860892 1.38479314 0.61559523]\n"
          ]
        }
      ],
      "source": [
        "#Creating a random variable of 10x2 matrix.\n",
        "Z = np.random.random((10,2))\n",
        "X,Y = Z[:,0], Z[:,1]  #Saperating X and Y coordinates from 10x2 matrix.\n",
        "\n",
        "#Converting X and Y cartesian coordinates into the polar coordinates (R and T).\n",
        "R = np.sqrt(X**2 + Y**2)\n",
        "T = np.arctan2(Y, X)\n",
        "\n",
        "print(R)\n",
        "print(T)"
      ]
    },
    {
      "cell_type": "markdown",
      "id": "5ab97d79",
      "metadata": {
        "id": "5ab97d79"
      },
      "source": [
        "### 17. Create random vector of size 10 and replace the maximum value by 0"
      ]
    },
    {
      "cell_type": "code",
      "execution_count": null,
      "id": "8cf5d67e",
      "metadata": {
        "id": "8cf5d67e",
        "outputId": "7f3d41ad-fe58-445b-e9d6-ac342b666825"
      },
      "outputs": [
        {
          "name": "stdout",
          "output_type": "stream",
          "text": [
            "Original Vector:  [0.9855293  0.82300483 0.85849481 0.64883151 0.21597374 0.89063625\n",
            " 0.59618961 0.56690341 0.60632584 0.15907111]\n",
            "\n",
            " Position of max value in a given vector 0\n",
            "\n",
            " New Vector:  [0.         0.82300483 0.85849481 0.64883151 0.21597374 0.89063625\n",
            " 0.59618961 0.56690341 0.60632584 0.15907111]\n"
          ]
        }
      ],
      "source": [
        "#Create random vector of size 10.\n",
        "Z = np.random.random((10))\n",
        "print(\"Original Vector: \", Z)\n",
        "\n",
        "#Finding the index of max value in a given vector.\n",
        "position = Z.argmax()\n",
        "\n",
        "#Printing the position of max value in a given vector.\n",
        "print(\"\\n\", \"Position of max value in a given vector\", position)\n",
        "\n",
        "#Replacing the max value by zero in a given vector.\n",
        "Z[position] = 0\n",
        "\n",
        "print(\"\\n\", \"New Vector: \", Z)\n"
      ]
    },
    {
      "cell_type": "markdown",
      "id": "e9794cea",
      "metadata": {
        "id": "e9794cea"
      },
      "source": [
        "### 18. Find the nearest value from a given value (z) in an array (Z)"
      ]
    },
    {
      "cell_type": "code",
      "execution_count": null,
      "id": "fd6d1db8",
      "metadata": {
        "id": "fd6d1db8"
      },
      "outputs": [],
      "source": [
        "#Creating random uniform vector.\n",
        "Z = np.random.uniform(0,1,10)\n",
        "z = 0.5\n",
        "\n",
        "#Finding the absolute difference between the each element of Z array and the value of z.\n",
        "X = np.abs(Z-z)\n",
        "\n",
        "#Finding the smallest value in X array and printing the same indexed value from Z array.\n",
        "print(Z[X.argmin()])"
      ]
    },
    {
      "cell_type": "markdown",
      "id": "fa7977ee",
      "metadata": {
        "id": "fa7977ee"
      },
      "source": [
        "### 19. Consider the vector [5, 4, 3, 2, 1], how to build a new vector with 3 consecutive zeros interleaved between each value?"
      ]
    },
    {
      "cell_type": "code",
      "execution_count": null,
      "id": "311c6fce",
      "metadata": {
        "id": "311c6fce",
        "outputId": "3140b829-d8c7-4d04-9658-e617fa51ba75"
      },
      "outputs": [
        {
          "name": "stdout",
          "output_type": "stream",
          "text": [
            "[5 4 3 2 1]\n",
            "[5. 0. 0. 0. 4. 0. 0. 0. 3. 0. 0. 0. 2. 0. 0. 0. 1.]\n"
          ]
        }
      ],
      "source": [
        "#Creating the vector as given in the question.\n",
        "Z = np.arange(6)[:0:-1]\n",
        "print(Z)\n",
        "\n",
        "#Creating a total 12 number of zeros element in 1D array.\n",
        "X = np.zeros(len(Z) + 3*(len(Z)-1))\n",
        "\n",
        "#Merging the above two arrays as required in a question.\n",
        "X[:: 4] = Z\n",
        "print(X)"
      ]
    },
    {
      "cell_type": "markdown",
      "id": "3c550f53",
      "metadata": {
        "id": "3c550f53"
      },
      "source": [
        "### 20. Consider an array of dimension (5,5,3), how to mulitply it element-wise by an array with dimensions (5,5) - i.e., (5,5,0)(5,5), (5,5,1)(5,5), (5,5,2)(5,5)"
      ]
    },
    {
      "cell_type": "code",
      "execution_count": null,
      "id": "080fa0dc",
      "metadata": {
        "id": "080fa0dc",
        "outputId": "c73c0d32-aa25-4240-8e0d-f5d4b580523f"
      },
      "outputs": [
        {
          "name": "stdout",
          "output_type": "stream",
          "text": [
            "[[[2. 2. 2.]\n",
            "  [2. 2. 2.]\n",
            "  [2. 2. 2.]\n",
            "  [2. 2. 2.]\n",
            "  [2. 2. 2.]]\n",
            "\n",
            " [[2. 2. 2.]\n",
            "  [2. 2. 2.]\n",
            "  [2. 2. 2.]\n",
            "  [2. 2. 2.]\n",
            "  [2. 2. 2.]]\n",
            "\n",
            " [[2. 2. 2.]\n",
            "  [2. 2. 2.]\n",
            "  [2. 2. 2.]\n",
            "  [2. 2. 2.]\n",
            "  [2. 2. 2.]]\n",
            "\n",
            " [[2. 2. 2.]\n",
            "  [2. 2. 2.]\n",
            "  [2. 2. 2.]\n",
            "  [2. 2. 2.]\n",
            "  [2. 2. 2.]]\n",
            "\n",
            " [[2. 2. 2.]\n",
            "  [2. 2. 2.]\n",
            "  [2. 2. 2.]\n",
            "  [2. 2. 2.]\n",
            "  [2. 2. 2.]]]\n"
          ]
        }
      ],
      "source": [
        "#Creating a array of (5,5,3) 1s matrix.\n",
        "A = np.ones((5,5,3))\n",
        "\n",
        "#Creating a array of (5,5) 2s matrix.\n",
        "B = 2*np.ones((5,5))\n",
        "\n",
        "#Converting it into 5*5*1 matrix\n",
        "C = B[:,:,None]  \n",
        "\n",
        "print(A*C)\n"
      ]
    },
    {
      "cell_type": "markdown",
      "id": "c6f22747",
      "metadata": {
        "id": "c6f22747"
      },
      "source": [
        "### 21. Swap the first and second rows of the 2D array below"
      ]
    },
    {
      "cell_type": "code",
      "execution_count": null,
      "id": "4870dbb9",
      "metadata": {
        "id": "4870dbb9",
        "outputId": "48ad5f45-192b-4f01-d589-e804e5a994b8"
      },
      "outputs": [
        {
          "name": "stdout",
          "output_type": "stream",
          "text": [
            "Original array: \n",
            " [[ 0  1  2  3  4]\n",
            " [ 5  6  7  8  9]\n",
            " [10 11 12 13 14]\n",
            " [15 16 17 18 19]\n",
            " [20 21 22 23 24]\n",
            " [25 26 27 28 29]]\n",
            "\n",
            " New array: \n",
            " [[ 5  6  7  8  9]\n",
            " [ 0  1  2  3  4]\n",
            " [10 11 12 13 14]\n",
            " [15 16 17 18 19]\n",
            " [20 21 22 23 24]\n",
            " [25 26 27 28 29]]\n"
          ]
        }
      ],
      "source": [
        "#Creating a 65 matrix.\n",
        "W = np.arange(30).reshape(6,5)\n",
        "print(\"Original array: \\n\", W)\n",
        "\n",
        "#Swapping the first and second row with eachother.\n",
        "W[[0,1]] = W[[1,0]]\n",
        "print(\"\\n\", \"New array: \\n\", W)"
      ]
    },
    {
      "cell_type": "markdown",
      "id": "b30b00b5",
      "metadata": {
        "id": "b30b00b5"
      },
      "source": [
        "### 22. Write a function that receives as input a 2D Boolean NumPy array and outputs the coordinates of the minimal bounding-box that encloses all non-zero elements in the input array"
      ]
    },
    {
      "cell_type": "code",
      "execution_count": null,
      "id": "2d93e265",
      "metadata": {
        "id": "2d93e265",
        "outputId": "2740f55a-b4ac-4171-c93f-c3be2bcf586a"
      },
      "outputs": [
        {
          "name": "stdout",
          "output_type": "stream",
          "text": [
            "((29, 50), (342, 431))\n"
          ]
        },
        {
          "data": {
            "image/png": "[encoded data removed]",
            "text/plain": [
              "<Figure size 432x288 with 1 Axes>"
            ]
          },
          "metadata": {
            "needs_background": "light"
          },
          "output_type": "display_data"
        }
      ],
      "source": [
        "#Define a fuunctio for finding the coordinates of the minimal bounding-box that encloses all non-zero elements in the input array\n",
        "def bbox(img):\n",
        "    a = np.argwhere(img)    # Creating a matrix(72825x2) having true boolean value\n",
        "    \n",
        "    r1 = np.amin(a[:,0:1])  #From the above matrix, extracting top left coordinates\n",
        "    c1 = np.amin(a[:,1:])   #From the above matrix, extracting top left coordinates\n",
        "    r2 = np.amax(a[:,0:1])  #From the above matrix, extracting bottom Right coordinates\n",
        "    c2 = np.amax(a[:,1:])   #From the above matrix, extracting bottom Right coordinates\n",
        "    \n",
        "    return (r1,c1),(r2,c2)\n",
        "\n",
        "\n",
        "from PIL import Image\n",
        "\n",
        "img = np.array(Image.open('bin_image.png').convert('L')) > 0  #Downloaded the image and opened from local path\n",
        "print(bbox(img))\n",
        "\n",
        "#Ploting the cropped image just for reference.\n",
        "plt.imshow(img[29:342, 50:431])\n",
        "plt.show()"
      ]
    },
    {
      "cell_type": "markdown",
      "id": "a8e5802e",
      "metadata": {
        "id": "a8e5802e"
      },
      "source": [
        "### 23.Write a function to compute the average over a sliding window of length N over a 1D array?"
      ]
    },
    {
      "cell_type": "code",
      "execution_count": null,
      "id": "b4a0e0b8",
      "metadata": {
        "id": "b4a0e0b8",
        "outputId": "88baa2f1-3f87-48a7-bb04-a7c39a562140"
      },
      "outputs": [
        {
          "name": "stdout",
          "output_type": "stream",
          "text": [
            "[ 2.  5.  8. 11. 14. 17. 20. 23. 26.]\n"
          ]
        }
      ],
      "source": [
        "#Define a function to compute the average over a sliding window of length N over a 1D array.\n",
        "def moving_average(x,N = 3):\n",
        "    ret = np.cumsum(x, dtype=float)   #Calculate the cummulitive sum array of given array.\n",
        "    ret[N:] = ret[N:] - ret[:-N]\n",
        "    a = ret[N - 1:] / N\n",
        "    return a[1::3]\n",
        "\n",
        "a = np.arange(30)\n",
        "N = 3\n",
        "\n",
        "print(moving_average(a,N))"
      ]
    },
    {
      "cell_type": "markdown",
      "id": "cb4bcd65",
      "metadata": {
        "id": "cb4bcd65"
      },
      "source": [
        "### 24. Given a sorted 1D array C that corresponds to a bincount, how to produce an array A such that np.bincount(A) == C?"
      ]
    },
    {
      "cell_type": "code",
      "execution_count": null,
      "id": "6fb571e3",
      "metadata": {
        "id": "6fb571e3",
        "outputId": "e03c1ddb-8a5c-4816-baac-2f6d9d69c6a3"
      },
      "outputs": [
        {
          "name": "stdout",
          "output_type": "stream",
          "text": [
            "C =  [0 2 1 1 2 0 1] -> A =  [1 1 2 3 4 4 6]\n"
          ]
        }
      ],
      "source": [
        "C = np.bincount([1,1,2,3,4,4,6])\n",
        "\n",
        "\n",
        "A = np.repeat(np.arange(len(C)), C)\n",
        "print(\"C = \", C, \"-> A = \", A)"
      ]
    },
    {
      "cell_type": "markdown",
      "id": "a880f0c1",
      "metadata": {
        "id": "a880f0c1"
      },
      "source": [
        "### 25. Find the most frequent value in the array below?"
      ]
    },
    {
      "cell_type": "code",
      "execution_count": null,
      "id": "65059b0d",
      "metadata": {
        "id": "65059b0d",
        "outputId": "e3666406-5286-4ffc-b734-505f474640a7"
      },
      "outputs": [
        {
          "name": "stdout",
          "output_type": "stream",
          "text": [
            "[4 8 9 2 8 0 6 1 6 3 2 0 4 8 0 5 0 7 8 4 1 8 2 0 1 6 7 3 4 8 1 5 1 4 7 0 1\n",
            " 5 2 8 8 7 2 7 9 9 4 9 8 4]\n",
            "Most frequent value in the array: 8\n"
          ]
        }
      ],
      "source": [
        "#Creating a random integer array\n",
        "Z = np.random.randint(0,10,50)\n",
        "print (Z)\n",
        "\n",
        "print('Most frequent value in the array:', np.bincount(Z).argmax())"
      ]
    },
    {
      "cell_type": "markdown",
      "id": "92d7026c",
      "metadata": {
        "id": "92d7026c"
      },
      "source": [
        "### 26. Write a function to return the n largest values of an array"
      ]
    },
    {
      "cell_type": "code",
      "execution_count": null,
      "id": "985ea7ca",
      "metadata": {
        "id": "985ea7ca",
        "outputId": "f3851eb4-c1d3-4987-f31a-79a2467bd75e"
      },
      "outputs": [
        {
          "name": "stdout",
          "output_type": "stream",
          "text": [
            "The largest 5 values of an array are: [9999 9998 9997 9996 9995]\n"
          ]
        }
      ],
      "source": [
        "#Define the function to fine the n largest values of an array\n",
        "def nlargest(a,n = 5):\n",
        "    d = np.sort(a)\n",
        "    \n",
        "    d = d[::-1]\n",
        "    return d[0:5]\n",
        "\n",
        "Z = np.arange(10000)\n",
        "np.random.shuffle(Z)\n",
        "n = 5\n",
        "print(\"The largest\", n, \"values of an array are:\", nlargest(Z,n))  "
      ]
    },
    {
      "cell_type": "code",
      "execution_count": null,
      "id": "a16ad4df",
      "metadata": {
        "id": "a16ad4df"
      },
      "outputs": [],
      "source": [
        ""
      ]
    }
  ],
  "metadata": {
    "kernelspec": {
      "display_name": "Python 3 (ipykernel)",
      "language": "python",
      "name": "python3"
    },
    "language_info": {
      "codemirror_mode": {
        "name": "ipython",
        "version": 3
      },
      "file_extension": ".py",
      "mimetype": "text/x-python",
      "name": "python",
      "nbconvert_exporter": "python",
      "pygments_lexer": "ipython3",
      "version": "3.9.7"
    },
    "colab": {
      "name": "Assignment_1.ipynb",
      "provenance": [],
      "include_colab_link": true
    }
  },
  "nbformat": 4,
  "nbformat_minor": 5
}